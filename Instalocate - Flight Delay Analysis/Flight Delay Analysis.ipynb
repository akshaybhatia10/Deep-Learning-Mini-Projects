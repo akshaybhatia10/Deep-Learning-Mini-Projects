{
 "cells": [
  {
   "cell_type": "markdown",
   "metadata": {},
   "source": [
    "## Flight Delay Analyisis\n",
    "\n",
    "In this notebook, we develop a simple model to predict flight delays. We start by exploring the dataset, building a simple baseline model and then building a deep neural network. "
   ]
  },
  {
   "cell_type": "code",
   "execution_count": 16,
   "metadata": {},
   "outputs": [],
   "source": [
    "import numpy as np\n",
    "import tensorflow as tf\n",
    "import pandas as pd\n",
    "import matplotlib.pyplot as plt\n",
    "import datetime\n",
    "%matplotlib inline\n",
    "import time\n",
    "import math\n",
    "import seaborn as sns\n",
    "import warnings\n",
    "warnings.filterwarnings(\"ignore\", category=DeprecationWarning)"
   ]
  },
  {
   "cell_type": "markdown",
   "metadata": {},
   "source": [
    "### Reading from csv files"
   ]
  },
  {
   "cell_type": "code",
   "execution_count": 3,
   "metadata": {},
   "outputs": [
    {
     "data": {
      "text/html": [
       "<div>\n",
       "<style scoped>\n",
       "    .dataframe tbody tr th:only-of-type {\n",
       "        vertical-align: middle;\n",
       "    }\n",
       "\n",
       "    .dataframe tbody tr th {\n",
       "        vertical-align: top;\n",
       "    }\n",
       "\n",
       "    .dataframe thead th {\n",
       "        text-align: right;\n",
       "    }\n",
       "</style>\n",
       "<table border=\"1\" class=\"dataframe\">\n",
       "  <thead>\n",
       "    <tr style=\"text-align: right;\">\n",
       "      <th></th>\n",
       "      <th>departure_date</th>\n",
       "      <th>airline_code</th>\n",
       "      <th>flight_number</th>\n",
       "      <th>source_airport</th>\n",
       "      <th>destination_airport</th>\n",
       "      <th>flight_status</th>\n",
       "      <th>departure_scheduled_time</th>\n",
       "      <th>departure_actual_time</th>\n",
       "      <th>arrival_scheduled_time</th>\n",
       "      <th>arrival_actual_time</th>\n",
       "    </tr>\n",
       "  </thead>\n",
       "  <tbody>\n",
       "    <tr>\n",
       "      <th>0</th>\n",
       "      <td>2018-03-01</td>\n",
       "      <td>BA</td>\n",
       "      <td>920</td>\n",
       "      <td>LHR</td>\n",
       "      <td>STR</td>\n",
       "      <td>LANDED</td>\n",
       "      <td>1.519921e+09</td>\n",
       "      <td>1519920720</td>\n",
       "      <td>1.519927e+09</td>\n",
       "      <td>1.519926e+09</td>\n",
       "    </tr>\n",
       "    <tr>\n",
       "      <th>1</th>\n",
       "      <td>2018-03-01</td>\n",
       "      <td>EI</td>\n",
       "      <td>381</td>\n",
       "      <td>LHR</td>\n",
       "      <td>SNN</td>\n",
       "      <td>LANDED</td>\n",
       "      <td>1.519898e+09</td>\n",
       "      <td>1519900680</td>\n",
       "      <td>1.519903e+09</td>\n",
       "      <td>1.519906e+09</td>\n",
       "    </tr>\n",
       "    <tr>\n",
       "      <th>2</th>\n",
       "      <td>2018-03-01</td>\n",
       "      <td>OS</td>\n",
       "      <td>7853</td>\n",
       "      <td>LHR</td>\n",
       "      <td>ORD</td>\n",
       "      <td>LANDED</td>\n",
       "      <td>1.519918e+09</td>\n",
       "      <td>1519917960</td>\n",
       "      <td>1.519951e+09</td>\n",
       "      <td>1.519949e+09</td>\n",
       "    </tr>\n",
       "    <tr>\n",
       "      <th>3</th>\n",
       "      <td>2018-03-01</td>\n",
       "      <td>AA</td>\n",
       "      <td>6237</td>\n",
       "      <td>LHR</td>\n",
       "      <td>AUS</td>\n",
       "      <td>LANDED</td>\n",
       "      <td>1.519903e+09</td>\n",
       "      <td>1519903440</td>\n",
       "      <td>1.519941e+09</td>\n",
       "      <td>1.519940e+09</td>\n",
       "    </tr>\n",
       "    <tr>\n",
       "      <th>4</th>\n",
       "      <td>2018-03-01</td>\n",
       "      <td>QR</td>\n",
       "      <td>5547</td>\n",
       "      <td>LHR</td>\n",
       "      <td>DFW</td>\n",
       "      <td>LANDED</td>\n",
       "      <td>1.519899e+09</td>\n",
       "      <td>1519901760</td>\n",
       "      <td>1.519936e+09</td>\n",
       "      <td>1.519937e+09</td>\n",
       "    </tr>\n",
       "  </tbody>\n",
       "</table>\n",
       "</div>"
      ],
      "text/plain": [
       "  departure_date airline_code  flight_number source_airport  \\\n",
       "0     2018-03-01           BA            920            LHR   \n",
       "1     2018-03-01           EI            381            LHR   \n",
       "2     2018-03-01           OS           7853            LHR   \n",
       "3     2018-03-01           AA           6237            LHR   \n",
       "4     2018-03-01           QR           5547            LHR   \n",
       "\n",
       "  destination_airport flight_status  departure_scheduled_time  \\\n",
       "0                 STR        LANDED              1.519921e+09   \n",
       "1                 SNN        LANDED              1.519898e+09   \n",
       "2                 ORD        LANDED              1.519918e+09   \n",
       "3                 AUS        LANDED              1.519903e+09   \n",
       "4                 DFW        LANDED              1.519899e+09   \n",
       "\n",
       "   departure_actual_time  arrival_scheduled_time  arrival_actual_time  \n",
       "0             1519920720            1.519927e+09         1.519926e+09  \n",
       "1             1519900680            1.519903e+09         1.519906e+09  \n",
       "2             1519917960            1.519951e+09         1.519949e+09  \n",
       "3             1519903440            1.519941e+09         1.519940e+09  \n",
       "4             1519901760            1.519936e+09         1.519937e+09  "
      ]
     },
     "execution_count": 3,
     "metadata": {},
     "output_type": "execute_result"
    }
   ],
   "source": [
    "march_data = pd.read_csv('./sample_data_mar_2018.csv')\n",
    "feb_data = pd.read_csv('./sample_data_feb_2018.csv')\n",
    "data = pd.concat([march_data, feb_data], axis=0)\n",
    "data.head()"
   ]
  },
  {
   "cell_type": "markdown",
   "metadata": {},
   "source": [
    "We notice that the flight status and flight number are not useful in determining if a flight gets delayed or not. \n",
    "Hence we remove them."
   ]
  },
  {
   "cell_type": "code",
   "execution_count": 4,
   "metadata": {
    "collapsed": true
   },
   "outputs": [],
   "source": [
    "data.dropna(how='any', axis = 0, inplace=True)\n",
    "data = data.drop(['flight_status', 'flight_number'], axis=1)"
   ]
  },
  {
   "cell_type": "markdown",
   "metadata": {},
   "source": [
    "Python's Datetime format convenient to work with dates and times and we use it to  convert the dates in this format"
   ]
  },
  {
   "cell_type": "code",
   "execution_count": 5,
   "metadata": {},
   "outputs": [],
   "source": [
    "data['departure_date'] = pd.to_datetime(data['departure_date'])\n",
    "data['departure_scheduled_time'] = pd.to_datetime(data['departure_scheduled_time'], unit='s')\n",
    "data['departure_actual_time'] = pd.to_datetime(data['departure_actual_time'], unit='s')\n",
    "data['arrival_scheduled_time'] = pd.to_datetime(data['arrival_scheduled_time'], unit='s')\n",
    "data['arrival_actual_time'] = pd.to_datetime(data['arrival_actual_time'], unit='s')"
   ]
  },
  {
   "cell_type": "markdown",
   "metadata": {},
   "source": [
    "Calculating arrival delay time fot our label since this a supervised learning problem. We also use\n",
    "departure delay time which may be useful for our models."
   ]
  },
  {
   "cell_type": "code",
   "execution_count": 6,
   "metadata": {
    "collapsed": true
   },
   "outputs": [],
   "source": [
    "data['arrival_delay'] = (data['arrival_actual_time'] - data['arrival_scheduled_time']).astype('timedelta64[m]')\n",
    "data['departure_delay'] = (data['departure_actual_time'] - data['departure_scheduled_time']).astype('timedelta64[m]')"
   ]
  },
  {
   "cell_type": "markdown",
   "metadata": {},
   "source": [
    "We extract all the information such as day, month, year from scheduled arrival and departure times. We do not use expected or actual times since they will not be avialable while prediction a new entry."
   ]
  },
  {
   "cell_type": "code",
   "execution_count": 7,
   "metadata": {},
   "outputs": [],
   "source": [
    "data['departure_scheduled_time_weekday'] = data['departure_scheduled_time'].dt.dayofweek\n",
    "data['departure_scheduled_time_day'] = data['departure_scheduled_time'].dt.day\n",
    "data['departure_scheduled_time_month'] = data['departure_scheduled_time'].dt.month\n",
    "data['departure_scheduled_time_year'] = data['departure_scheduled_time'].dt.year\n",
    "\n",
    "data['arrival_scheduled_time_day_weekday'] = data['arrival_scheduled_time'].dt.dayofweek\n",
    "data['arrival_scheduled_time_day'] = data['arrival_scheduled_time'].dt.day\n",
    "data['arrival_scheduled_time_month'] = data['arrival_scheduled_time'].dt.month\n",
    "data['arrival_scheduled_time_year'] = data['arrival_scheduled_time'].dt.year"
   ]
  },
  {
   "cell_type": "code",
   "execution_count": 13,
   "metadata": {},
   "outputs": [
    {
     "data": {
      "text/html": [
       "<div>\n",
       "<style scoped>\n",
       "    .dataframe tbody tr th:only-of-type {\n",
       "        vertical-align: middle;\n",
       "    }\n",
       "\n",
       "    .dataframe tbody tr th {\n",
       "        vertical-align: top;\n",
       "    }\n",
       "\n",
       "    .dataframe thead th {\n",
       "        text-align: right;\n",
       "    }\n",
       "</style>\n",
       "<table border=\"1\" class=\"dataframe\">\n",
       "  <thead>\n",
       "    <tr style=\"text-align: right;\">\n",
       "      <th></th>\n",
       "      <th>departure_date</th>\n",
       "      <th>airline_code</th>\n",
       "      <th>source_airport</th>\n",
       "      <th>destination_airport</th>\n",
       "      <th>departure_scheduled_time</th>\n",
       "      <th>departure_actual_time</th>\n",
       "      <th>arrival_scheduled_time</th>\n",
       "      <th>arrival_actual_time</th>\n",
       "      <th>arrival_delay</th>\n",
       "      <th>departure_delay</th>\n",
       "      <th>departure_scheduled_time_weekday</th>\n",
       "      <th>departure_scheduled_time_day</th>\n",
       "      <th>departure_scheduled_time_month</th>\n",
       "      <th>departure_scheduled_time_year</th>\n",
       "      <th>arrival_scheduled_time_day_weekday</th>\n",
       "      <th>arrival_scheduled_time_day</th>\n",
       "      <th>arrival_scheduled_time_month</th>\n",
       "      <th>arrival_scheduled_time_year</th>\n",
       "      <th>airline</th>\n",
       "    </tr>\n",
       "  </thead>\n",
       "  <tbody>\n",
       "    <tr>\n",
       "      <th>0</th>\n",
       "      <td>2018-03-01</td>\n",
       "      <td>BA</td>\n",
       "      <td>LHR</td>\n",
       "      <td>STR</td>\n",
       "      <td>2018-03-01 16:10:00</td>\n",
       "      <td>2018-03-01 16:12:00</td>\n",
       "      <td>2018-03-01 17:50:00</td>\n",
       "      <td>2018-03-01 17:38:00</td>\n",
       "      <td>-12.0</td>\n",
       "      <td>2.0</td>\n",
       "      <td>3</td>\n",
       "      <td>1</td>\n",
       "      <td>3</td>\n",
       "      <td>2018</td>\n",
       "      <td>3</td>\n",
       "      <td>1</td>\n",
       "      <td>3</td>\n",
       "      <td>2018</td>\n",
       "      <td>14</td>\n",
       "    </tr>\n",
       "    <tr>\n",
       "      <th>1</th>\n",
       "      <td>2018-03-01</td>\n",
       "      <td>EI</td>\n",
       "      <td>LHR</td>\n",
       "      <td>SNN</td>\n",
       "      <td>2018-03-01 09:50:00</td>\n",
       "      <td>2018-03-01 10:38:00</td>\n",
       "      <td>2018-03-01 11:15:00</td>\n",
       "      <td>2018-03-01 12:01:00</td>\n",
       "      <td>46.0</td>\n",
       "      <td>48.0</td>\n",
       "      <td>3</td>\n",
       "      <td>1</td>\n",
       "      <td>3</td>\n",
       "      <td>2018</td>\n",
       "      <td>3</td>\n",
       "      <td>1</td>\n",
       "      <td>3</td>\n",
       "      <td>2018</td>\n",
       "      <td>28</td>\n",
       "    </tr>\n",
       "    <tr>\n",
       "      <th>2</th>\n",
       "      <td>2018-03-01</td>\n",
       "      <td>OS</td>\n",
       "      <td>LHR</td>\n",
       "      <td>ORD</td>\n",
       "      <td>2018-03-01 15:20:00</td>\n",
       "      <td>2018-03-01 15:26:00</td>\n",
       "      <td>2018-03-02 00:35:00</td>\n",
       "      <td>2018-03-02 00:11:00</td>\n",
       "      <td>-24.0</td>\n",
       "      <td>6.0</td>\n",
       "      <td>3</td>\n",
       "      <td>1</td>\n",
       "      <td>3</td>\n",
       "      <td>2018</td>\n",
       "      <td>4</td>\n",
       "      <td>2</td>\n",
       "      <td>3</td>\n",
       "      <td>2018</td>\n",
       "      <td>68</td>\n",
       "    </tr>\n",
       "    <tr>\n",
       "      <th>3</th>\n",
       "      <td>2018-03-01</td>\n",
       "      <td>AA</td>\n",
       "      <td>LHR</td>\n",
       "      <td>AUS</td>\n",
       "      <td>2018-03-01 11:20:00</td>\n",
       "      <td>2018-03-01 11:24:00</td>\n",
       "      <td>2018-03-01 21:55:00</td>\n",
       "      <td>2018-03-01 21:37:00</td>\n",
       "      <td>-18.0</td>\n",
       "      <td>4.0</td>\n",
       "      <td>3</td>\n",
       "      <td>1</td>\n",
       "      <td>3</td>\n",
       "      <td>2018</td>\n",
       "      <td>3</td>\n",
       "      <td>1</td>\n",
       "      <td>3</td>\n",
       "      <td>2018</td>\n",
       "      <td>3</td>\n",
       "    </tr>\n",
       "    <tr>\n",
       "      <th>4</th>\n",
       "      <td>2018-03-01</td>\n",
       "      <td>QR</td>\n",
       "      <td>LHR</td>\n",
       "      <td>DFW</td>\n",
       "      <td>2018-03-01 10:10:00</td>\n",
       "      <td>2018-03-01 10:56:00</td>\n",
       "      <td>2018-03-01 20:35:00</td>\n",
       "      <td>2018-03-01 20:40:00</td>\n",
       "      <td>5.0</td>\n",
       "      <td>46.0</td>\n",
       "      <td>3</td>\n",
       "      <td>1</td>\n",
       "      <td>3</td>\n",
       "      <td>2018</td>\n",
       "      <td>3</td>\n",
       "      <td>1</td>\n",
       "      <td>3</td>\n",
       "      <td>2018</td>\n",
       "      <td>74</td>\n",
       "    </tr>\n",
       "  </tbody>\n",
       "</table>\n",
       "</div>"
      ],
      "text/plain": [
       "  departure_date airline_code source_airport destination_airport  \\\n",
       "0     2018-03-01           BA            LHR                 STR   \n",
       "1     2018-03-01           EI            LHR                 SNN   \n",
       "2     2018-03-01           OS            LHR                 ORD   \n",
       "3     2018-03-01           AA            LHR                 AUS   \n",
       "4     2018-03-01           QR            LHR                 DFW   \n",
       "\n",
       "  departure_scheduled_time departure_actual_time arrival_scheduled_time  \\\n",
       "0      2018-03-01 16:10:00   2018-03-01 16:12:00    2018-03-01 17:50:00   \n",
       "1      2018-03-01 09:50:00   2018-03-01 10:38:00    2018-03-01 11:15:00   \n",
       "2      2018-03-01 15:20:00   2018-03-01 15:26:00    2018-03-02 00:35:00   \n",
       "3      2018-03-01 11:20:00   2018-03-01 11:24:00    2018-03-01 21:55:00   \n",
       "4      2018-03-01 10:10:00   2018-03-01 10:56:00    2018-03-01 20:35:00   \n",
       "\n",
       "  arrival_actual_time  arrival_delay  departure_delay  \\\n",
       "0 2018-03-01 17:38:00          -12.0              2.0   \n",
       "1 2018-03-01 12:01:00           46.0             48.0   \n",
       "2 2018-03-02 00:11:00          -24.0              6.0   \n",
       "3 2018-03-01 21:37:00          -18.0              4.0   \n",
       "4 2018-03-01 20:40:00            5.0             46.0   \n",
       "\n",
       "   departure_scheduled_time_weekday  departure_scheduled_time_day  \\\n",
       "0                                 3                             1   \n",
       "1                                 3                             1   \n",
       "2                                 3                             1   \n",
       "3                                 3                             1   \n",
       "4                                 3                             1   \n",
       "\n",
       "   departure_scheduled_time_month  departure_scheduled_time_year  \\\n",
       "0                               3                           2018   \n",
       "1                               3                           2018   \n",
       "2                               3                           2018   \n",
       "3                               3                           2018   \n",
       "4                               3                           2018   \n",
       "\n",
       "   arrival_scheduled_time_day_weekday  arrival_scheduled_time_day  \\\n",
       "0                                   3                           1   \n",
       "1                                   3                           1   \n",
       "2                                   4                           2   \n",
       "3                                   3                           1   \n",
       "4                                   3                           1   \n",
       "\n",
       "   arrival_scheduled_time_month  arrival_scheduled_time_year  airline  \n",
       "0                             3                         2018       14  \n",
       "1                             3                         2018       28  \n",
       "2                             3                         2018       68  \n",
       "3                             3                         2018        3  \n",
       "4                             3                         2018       74  "
      ]
     },
     "execution_count": 13,
     "metadata": {},
     "output_type": "execute_result"
    }
   ],
   "source": [
    "data.head()"
   ]
  },
  {
   "cell_type": "markdown",
   "metadata": {},
   "source": [
    "Visualisations - Delay rate of each airline"
   ]
  },
  {
   "cell_type": "code",
   "execution_count": 17,
   "metadata": {
    "scrolled": false
   },
   "outputs": [
    {
     "name": "stdout",
     "output_type": "stream",
     "text": [
      "14 BA\n",
      "28 EI\n",
      "68 OS\n",
      "3 AA\n",
      "74 QR\n",
      "85 SV\n",
      "2 A3\n",
      "4 AC\n",
      "65 NH\n",
      "72 PR\n",
      "30 ET\n",
      "90 UA\n",
      "24 CX\n",
      "51 KL\n",
      "80 SA\n",
      "12 AY\n",
      "58 LY\n",
      "47 JL\n",
      "29 EK\n",
      "6 AF\n",
      "41 IB\n",
      "55 LH\n",
      "86 TG\n",
      "82 SN\n",
      "75 RJ\n",
      "59 ME\n",
      "81 SK\n",
      "88 TP\n",
      "37 GF\n",
      "26 DL\n",
      "9 AM\n",
      "11 AV\n",
      "87 TK\n",
      "73 QF\n",
      "83 SQ\n",
      "95 VS\n",
      "61 MH\n",
      "25 CZ\n",
      "91 UL\n",
      "46 JJ\n",
      "32 EY\n",
      "53 KQ\n",
      "92 UU\n",
      "13 AZ\n",
      "8 AI\n",
      "84 SU\n",
      "64 MU\n",
      "66 NZ\n",
      "35 G3\n",
      "1 9W\n",
      "70 OZ\n",
      "36 GA\n",
      "96 VY\n",
      "57 LX\n",
      "56 LO\n",
      "97 WY\n",
      "0 4U\n",
      "38 HM\n",
      "27 DT\n",
      "93 VA\n",
      "63 MS\n",
      "10 AT\n",
      "52 KM\n",
      "49 KC\n",
      "42 IG\n",
      "79 S7\n",
      "99 XY\n",
      "22 CI\n",
      "34 FI\n",
      "60 MF\n",
      "94 VN\n",
      "17 BI\n",
      "50 KE\n",
      "71 PK\n",
      "39 HU\n",
      "69 OU\n",
      "62 MK\n",
      "21 CA\n",
      "76 RO\n",
      "19 BR\n",
      "18 BM\n",
      "33 FB\n",
      "20 BT\n",
      "7 AH\n",
      "54 KU\n",
      "15 BE\n",
      "5 AD\n",
      "98 X3\n",
      "45 JD\n",
      "89 TU\n",
      "43 IR\n",
      "16 BG\n",
      "44 J2\n",
      "31 EW\n",
      "40 HY\n",
      "48 JP\n",
      "67 OK\n",
      "101 ZT\n",
      "78 S4\n",
      "23 CO\n",
      "77 RU\n",
      "100 ZI\n"
     ]
    },
    {
     "name": "stderr",
     "output_type": "stream",
     "text": [
      "/anaconda/envs/tensorflow/lib/python3.5/site-packages/matplotlib/cbook.py:2649: UserWarning: Saw kwargs ['c', 'color'] which are all aliases for 'color'.  Kept value from 'color'\n",
      "  seen=seen, canon=canonical, used=seen[-1]))\n"
     ]
    },
    {
     "data": {
      "image/png": "[encoded data removed]",
      "text/plain": [
       "<matplotlib.figure.Figure at 0x11f2882e8>"
      ]
     },
     "metadata": {},
     "output_type": "display_data"
    }
   ],
   "source": [
    "from sklearn import preprocessing\n",
    "\n",
    "le = preprocessing.LabelEncoder()\n",
    "data['airline'] = le.fit_transform(data['airline_code'])\n",
    "\n",
    "for i in data['airline'].unique():\n",
    "    print (i , le.inverse_transform(i))\n",
    "\n",
    "a = data.groupby('airline').nunique()['arrival_delay']\n",
    "a.plot(kind='line' ,subplots=True,c='a', figsize=(14,8),legend=True)\n",
    "plt.title('Number of Scheduled flights per day')\n",
    "plt.show()"
   ]
  },
  {
   "cell_type": "markdown",
   "metadata": {},
   "source": [
    "Converting all categorical variables and defining the target label. "
   ]
  },
  {
   "cell_type": "code",
   "execution_count": 18,
   "metadata": {},
   "outputs": [],
   "source": [
    "data = pd.get_dummies(data, columns=[\"airline_code\", \"destination_airport\", \"source_airport\"], prefix=[\"airline_code\", \"destination_airport\", \"source_airport\"])\n",
    "data['delayed'] = data['arrival_delay'] >= 30"
   ]
  },
  {
   "cell_type": "markdown",
   "metadata": {},
   "source": [
    "To get confidence scores for each prediction, we define the targets as a 2D array. We will then use softmax cross entropy(log loss) for predictions. "
   ]
  },
  {
   "cell_type": "code",
   "execution_count": 19,
   "metadata": {},
   "outputs": [
    {
     "name": "stdout",
     "output_type": "stream",
     "text": [
      "(100637, 2)\n"
     ]
    }
   ],
   "source": [
    "# [0,1] if delayed else [1,0]\n",
    "isDelayed = np.array(data['delayed'])\n",
    "\n",
    "delayed = np.zeros((data.shape[0], 2))\n",
    "print (delayed.shape)\n",
    "for i in range(len(delayed)):\n",
    "    if isDelayed[i] == False:\n",
    "        delayed[i][0] = 1\n",
    "    else:\n",
    "        delayed[i][1] = 1"
   ]
  },
  {
   "cell_type": "markdown",
   "metadata": {},
   "source": [
    "Removing unnecessary features. Here we define seperate target variables: Y which is 1D for our baseline model (since we only want to observe how the baseline performs)and Y_confindence which is 2D for our deep neural network. "
   ]
  },
  {
   "cell_type": "code",
   "execution_count": 20,
   "metadata": {
    "collapsed": true
   },
   "outputs": [],
   "source": [
    "to_remove = ['arrival_delay',\n",
    "             'departure_date',\n",
    "             'departure_scheduled_time',\n",
    "             'departure_actual_time',\n",
    "             'arrival_scheduled_time', \n",
    "             'arrival_actual_time',\n",
    "             'delayed']\n",
    "\n",
    "Y = np.reshape(np.array(data['delayed']), (data.shape[0], 1))\n",
    "Y_confidence = delayed\n",
    "X = np.array(data.drop(to_remove, axis = 1))"
   ]
  },
  {
   "cell_type": "markdown",
   "metadata": {},
   "source": [
    "Defining two helper functions:\n",
    "- train_test_split: Splitting the dataset into training, validation and test sets\n",
    "- get_batches: Generating batches for our deep neural network"
   ]
  },
  {
   "cell_type": "code",
   "execution_count": 21,
   "metadata": {},
   "outputs": [],
   "source": [
    "def train_test_split(data, split_ratio, shuffle=True):\n",
    "    if shuffle == True:\n",
    "        np.random.shuffle(data)\n",
    "\n",
    "    idx = int(len(data) * split_ratio)\n",
    "    train_data, test_data = data[:idx], data[idx:]\n",
    "\n",
    "    return train_data, test_data\n",
    "\n",
    "def get_batches(X, Y, batch_size = 128):\n",
    "    counts = len(X)\n",
    "    num_batches = counts // batch_size\n",
    "    \n",
    "    for i in range(0, counts, batch_size):\n",
    "        x = X[i:min(i + batch_size, counts)]\n",
    "        y = Y[i:min(i + batch_size, counts)]\n",
    "        yield x, y"
   ]
  },
  {
   "cell_type": "markdown",
   "metadata": {},
   "source": [
    "Splitting our dataset into training, validation and test sets"
   ]
  },
  {
   "cell_type": "code",
   "execution_count": 22,
   "metadata": {},
   "outputs": [
    {
     "name": "stdout",
     "output_type": "stream",
     "text": [
      "Train Input Shape:  (80509, 301)\n",
      "Train Target Shape:  (80509, 2)\n",
      "Validation Input Shape:  (10064, 301)\n",
      "Validation Target Shape:  (10064, 2)\n",
      "Test Input Shape:  (10064, 301)\n",
      "Test Target Shape:  (10064, 2)\n"
     ]
    }
   ],
   "source": [
    "X_train, x = train_test_split(X, split_ratio=0.8, shuffle=False)\n",
    "y_train, y = train_test_split(Y_confidence, split_ratio=0.8, shuffle=False)\n",
    "\n",
    "X_val, X_test = train_test_split(x, split_ratio=0.5, shuffle=False)\n",
    "y_val, y_test = train_test_split(y, split_ratio=0.5, shuffle=False)\n",
    "\n",
    "print (\"Train Input Shape: \", X_train.shape)\n",
    "print (\"Train Target Shape: \", y_train.shape)\n",
    "\n",
    "print (\"Validation Input Shape: \",X_val.shape)\n",
    "print (\"Validation Target Shape: \",y_val.shape)\n",
    "\n",
    "print (\"Test Input Shape: \",X_test.shape)\n",
    "print (\"Test Target Shape: \",y_test.shape)"
   ]
  },
  {
   "cell_type": "markdown",
   "metadata": {},
   "source": [
    "#### Simple Baseline Model\n",
    "\n",
    "Here we use Tensorflow's newly available estimators. Estimators are pre-build computation graphs. The baseline classifier returns the probability distribution of the classes as seen in the labels. For multi-label problems, this will predict the fraction of examples that are positive for each class."
   ]
  },
  {
   "cell_type": "code",
   "execution_count": 23,
   "metadata": {},
   "outputs": [
    {
     "name": "stdout",
     "output_type": "stream",
     "text": [
      "INFO:tensorflow:Using default config.\n",
      "WARNING:tensorflow:Using temporary folder as model directory: /var/folders/vv/fxyl2yq11hv5h9ntcpl8rlqh0000gn/T/tmp6wjbhogb\n",
      "INFO:tensorflow:Using config: {'_keep_checkpoint_max': 5, '_master': '', '_task_id': 0, '_global_id_in_cluster': 0, '_evaluation_master': '', '_save_summary_steps': 100, '_session_config': None, '_num_worker_replicas': 1, '_service': None, '_tf_random_seed': None, '_save_checkpoints_steps': None, '_model_dir': '/var/folders/vv/fxyl2yq11hv5h9ntcpl8rlqh0000gn/T/tmp6wjbhogb', '_num_ps_replicas': 0, '_is_chief': True, '_cluster_spec': <tensorflow.python.training.server_lib.ClusterSpec object at 0x1192e3f98>, '_task_type': 'worker', '_log_step_count_steps': 100, '_save_checkpoints_secs': 600, '_keep_checkpoint_every_n_hours': 10000}\n",
      "INFO:tensorflow:Calling model_fn.\n",
      "INFO:tensorflow:Done calling model_fn.\n",
      "INFO:tensorflow:Create CheckpointSaverHook.\n",
      "INFO:tensorflow:Graph was finalized.\n",
      "INFO:tensorflow:Running local_init_op.\n",
      "INFO:tensorflow:Done running local_init_op.\n",
      "INFO:tensorflow:Saving checkpoints for 1 into /var/folders/vv/fxyl2yq11hv5h9ntcpl8rlqh0000gn/T/tmp6wjbhogb/model.ckpt.\n",
      "INFO:tensorflow:loss = 177.44576, step = 1\n",
      "INFO:tensorflow:Saving checkpoints for 100 into /var/folders/vv/fxyl2yq11hv5h9ntcpl8rlqh0000gn/T/tmp6wjbhogb/model.ckpt.\n",
      "INFO:tensorflow:Loss for final step: 64.984474.\n",
      "INFO:tensorflow:Calling model_fn.\n",
      "INFO:tensorflow:Done calling model_fn.\n",
      "INFO:tensorflow:Starting evaluation at 2018-05-06-18:27:33\n",
      "INFO:tensorflow:Graph was finalized.\n",
      "INFO:tensorflow:Restoring parameters from /var/folders/vv/fxyl2yq11hv5h9ntcpl8rlqh0000gn/T/tmp6wjbhogb/model.ckpt-100\n",
      "INFO:tensorflow:Running local_init_op.\n",
      "INFO:tensorflow:Done running local_init_op.\n",
      "INFO:tensorflow:Finished evaluation at 2018-05-06-18:27:34\n",
      "INFO:tensorflow:Saving dict for global step 100: accuracy = 0.85383546, accuracy_baseline = 0.85383546, auc = 0.5, auc_precision_recall = 0.57308227, average_loss = 0.4167125, global_step = 100, label/mean = 0.14616455, loss = 53.086006, prediction/mean = 0.13315026\n",
      "\n",
      "\n",
      "Test Accuracy: 85.4 %\n"
     ]
    }
   ],
   "source": [
    "import tensorflow as tf\n",
    "import numpy as np\n",
    "\n",
    "X_, x_ = train_test_split(X, split_ratio=0.8, shuffle=False)\n",
    "Y_, y_ = train_test_split(Y, split_ratio=0.8, shuffle=False)\n",
    "\n",
    "def input_fn_train(X, y):\n",
    "    return X, y\n",
    "\n",
    "def input_fn_test(X, y):\n",
    "    return X, y\n",
    "\n",
    "classifier = tf.estimator.BaselineClassifier(n_classes=2)\n",
    "\n",
    "train_input_fn = tf.estimator.inputs.numpy_input_fn(\n",
    "    x={\"x\": input_fn_train(X_, Y_)[0]},\n",
    "    y=input_fn_train(X_, Y_)[1],\n",
    "    num_epochs=30,\n",
    "    batch_size=256,\n",
    "    shuffle=True\n",
    ")\n",
    "\n",
    "classifier.train(input_fn=train_input_fn, steps=100)\n",
    "\n",
    "# Define the test inputs\n",
    "test_input_fn = tf.estimator.inputs.numpy_input_fn(\n",
    "    x={\"x\": input_fn_test(x_, y_)[0]},\n",
    "    y=input_fn_test(x_, y_)[1],\n",
    "    num_epochs=1,\n",
    "    shuffle=False\n",
    ")\n",
    "\n",
    "# Evaluate accuracy\n",
    "accuracy_score = classifier.evaluate(input_fn=test_input_fn)[\"accuracy\"]\n",
    "print ('\\n')\n",
    "print('Test Accuracy: {:.1f} %'.format(accuracy_score*100))"
   ]
  },
  {
   "cell_type": "markdown",
   "metadata": {},
   "source": [
    "#### Deep Neural Network\n",
    "\n",
    "We now build our 3 layer simple DNN. After final preprocessing, we have 300 features and a 2D target. Number of units(neurons) for the 2 hidden layers are 64, 32 respectively and relu non-linearities are used. The loss function is softmax cross entropy and the network is trained using Adam Optimizer which uses an exponentially decaying average of past gradients with vanilla gradient descent."
   ]
  },
  {
   "cell_type": "code",
   "execution_count": 25,
   "metadata": {},
   "outputs": [],
   "source": [
    "tf.reset_default_graph()\n",
    "\n",
    "inputs = tf.placeholder(tf.float32, shape=(None, 301))\n",
    "targets = tf.placeholder(tf.float32, shape=(None, 2))\n",
    "lr = tf.placeholder(tf.float32)\n",
    "pkeep = tf.placeholder(tf.float32)\n",
    "\n",
    "W1 = tf.get_variable(name='W1', shape=(301, 64), initializer=tf.contrib.layers.xavier_initializer())\n",
    "b1 = tf.Variable(tf.ones(64))\n",
    "\n",
    "W2 = tf.get_variable(name='W2', shape=(64, 32), initializer=tf.contrib.layers.xavier_initializer())\n",
    "b2 = tf.Variable(tf.ones(32))\n",
    "\n",
    "W3 =tf.get_variable(name='W3', shape=(32, 2), initializer=tf.contrib.layers.xavier_initializer())\n",
    "b3 = tf.Variable(tf.ones(2))\n",
    "\n",
    "x = tf.nn.relu(tf.add(tf.matmul(inputs, W1), b1))\n",
    "x = tf.nn.relu(tf.add(tf.matmul(x, W2), b2))\n",
    "y = tf.add(tf.matmul(x, W3), b3)\n",
    "y_ = tf.nn.softmax(y)\n",
    "\n",
    "loss = tf.reduce_mean(tf.nn.softmax_cross_entropy_with_logits_v2(labels=targets, logits=y))\n",
    "optimizer = tf.train.AdamOptimizer(learning_rate=lr).minimize(loss)\n",
    "\n",
    "correct_prediction = tf.equal(tf.argmax(y_, 1), tf.argmax(targets, 1))\n",
    "accuracy = tf.reduce_mean(tf.cast(correct_prediction, tf.float32))"
   ]
  },
  {
   "cell_type": "markdown",
   "metadata": {},
   "source": [
    "Defining the training loop"
   ]
  },
  {
   "cell_type": "code",
   "execution_count": 26,
   "metadata": {},
   "outputs": [
    {
     "name": "stdout",
     "output_type": "stream",
     "text": [
      "Epoch:0, Loss:0.31, Accuracy:87.99999952316284 %, Time Taken Per Epoch:0.72 secs, Total Time Elapsed:0.00 secs\n",
      "----Validation Accuracy:87.99682259559631 % after 0 epochs---- \n",
      "Epoch:5, Loss:0.17, Accuracy:94.40000057220459 %, Time Taken Per Epoch:0.68 secs, Total Time Elapsed:3.43 secs\n",
      "Epoch:10, Loss:0.17, Accuracy:95.20000219345093 %, Time Taken Per Epoch:0.67 secs, Total Time Elapsed:6.79 secs\n",
      "----Validation Accuracy:95.11128664016724 % after 10 epochs---- \n",
      "Epoch:15, Loss:0.17, Accuracy:95.20000219345093 %, Time Taken Per Epoch:0.67 secs, Total Time Elapsed:10.14 secs\n",
      "Epoch:20, Loss:0.19, Accuracy:95.20000219345093 %, Time Taken Per Epoch:0.67 secs, Total Time Elapsed:13.49 secs\n",
      "----Validation Accuracy:95.22058963775635 % after 20 epochs---- \n",
      "Epoch:25, Loss:0.20, Accuracy:95.20000219345093 %, Time Taken Per Epoch:0.67 secs, Total Time Elapsed:16.84 secs\n",
      "Epoch:30, Loss:0.21, Accuracy:95.20000219345093 %, Time Taken Per Epoch:0.67 secs, Total Time Elapsed:20.20 secs\n",
      "----Validation Accuracy:95.04173398017883 % after 30 epochs---- \n",
      "  \n",
      "Model saved in path: models/model.ckpt\n"
     ]
    }
   ],
   "source": [
    "init = tf.global_variables_initializer()\n",
    "#tf.Session.reset(targets, containers=None, config=None)\n",
    "saver = tf.train.Saver()\n",
    "\n",
    "sess = tf.Session()\n",
    "epochs = 30\n",
    "total_time = 0\n",
    "# Start training\n",
    "with sess:\n",
    "    sess.run(init)\n",
    "    for epoch in range(epochs+1):\n",
    "        start = time.time()\n",
    "        for x, y in get_batches(X_train, y_train, 256):\n",
    "            max_learning_rate = 0.003\n",
    "            min_learning_rate = 0.0001\n",
    "            decay_speed = 2000.0\n",
    "            learn = min_learning_rate + (max_learning_rate - min_learning_rate) * math.exp(-epoch/decay_speed)\n",
    "            \n",
    "            _, l, acc  = sess.run([optimizer, loss, accuracy], feed_dict={inputs:x, targets:y, lr:learn, pkeep:0.8})\n",
    "        \n",
    "        end = time.time()    \n",
    "\n",
    "        if epoch % 5 == 0:\n",
    "            print ('Epoch:{}, Loss:{:.2f}, Accuracy:{} %, Time Taken Per Epoch:{:.2f} secs, Total Time Elapsed:{:.2f} secs'.format(epoch, l, acc*100, (end - start), (total_time)))   \n",
    "        if epoch % 10 == 0:\n",
    "            print(\"----Validation Accuracy:{} % after {} epochs---- \".format(accuracy.eval(feed_dict={inputs: X_val, targets: y_val, pkeep: 1.0})*100, epoch))\n",
    "        \n",
    "        total_time += (end - start)\n",
    "    save_path = saver.save(sess, 'models/model.ckpt') \n",
    "    print (\"  \")\n",
    "    print(\"Model saved in path: %s\" % save_path)"
   ]
  },
  {
   "cell_type": "markdown",
   "metadata": {},
   "source": [
    "Using the saved model to predict on test set."
   ]
  },
  {
   "cell_type": "code",
   "execution_count": 27,
   "metadata": {},
   "outputs": [
    {
     "name": "stdout",
     "output_type": "stream",
     "text": [
      "INFO:tensorflow:Restoring parameters from models/model.ckpt\n",
      "Model restored.\n",
      "Validation Accuracy:90.62997102737427 %\n"
     ]
    }
   ],
   "source": [
    "sess = tf.Session()\n",
    "with sess:\n",
    "\n",
    "    saver.restore(sess, \"models/model.ckpt\")\n",
    "    print(\"Model restored.\")\n",
    "    # Check the values of the variables\n",
    "    print(\"Validation Accuracy:{} %\".format(accuracy.eval(feed_dict={inputs: X_test, targets: y_test, pkeep: 1.0})*100))"
   ]
  },
  {
   "cell_type": "markdown",
   "metadata": {},
   "source": [
    "We see that accuracy is better than our baseline model for both validation set and test set. But the model is clearly overfitting since we do not have enough features available. Flight delays depend on a lot of factors such as weather conditons, etc. and hence the loss for our simple Deep neural network becomes stagnant after some time. "
   ]
  },
  {
   "cell_type": "code",
   "execution_count": null,
   "metadata": {
    "collapsed": true
   },
   "outputs": [],
   "source": []
  }
 ],
 "metadata": {
  "kernelspec": {
   "display_name": "Python [conda env:tensorflow]",
   "language": "python",
   "name": "conda-env-tensorflow-py"
  },
  "language_info": {
   "codemirror_mode": {
    "name": "ipython",
    "version": 3
   },
   "file_extension": ".py",
   "mimetype": "text/x-python",
   "name": "python",
   "nbconvert_exporter": "python",
   "pygments_lexer": "ipython3",
   "version": "3.5.3"
  }
 },
 "nbformat": 4,
 "nbformat_minor": 2
}

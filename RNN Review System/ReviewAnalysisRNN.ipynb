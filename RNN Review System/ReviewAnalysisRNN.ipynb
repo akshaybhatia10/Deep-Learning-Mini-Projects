{
 "cells": [
  {
   "cell_type": "markdown",
   "metadata": {},
   "source": [
    "## Review Analysis using RNN\n",
    "\n",
    "Sentiment Analysis of movie reviews using Recurrent Neural Networks and LSTM."
   ]
  },
  {
   "cell_type": "markdown",
   "metadata": {},
   "source": [
    "Importing the dataset"
   ]
  },
  {
   "cell_type": "code",
   "execution_count": 1,
   "metadata": {
    "collapsed": false
   },
   "outputs": [],
   "source": [
    "import tensorflow as tf\n",
    "import numpy as np\n",
    "import time\n",
    "from collections import Counter"
   ]
  },
  {
   "cell_type": "code",
   "execution_count": 10,
   "metadata": {
    "collapsed": false
   },
   "outputs": [],
   "source": [
    "reviews = ''\n",
    "labels = ''\n",
    "\n",
    "with open('data/reviews.txt', 'r') as f:\n",
    "    reviews = f.read()\n",
    "    \n",
    "with open('data/labels.txt', 'r') as f:\n",
    "    labels = f.read()"
   ]
  },
  {
   "cell_type": "code",
   "execution_count": 11,
   "metadata": {
    "collapsed": false
   },
   "outputs": [
    {
     "name": "stdout",
     "output_type": "stream",
     "text": [
      "Sample Positive Review-->\n",
      "bromwell high is a cartoon comedy . it ran at the same time as some other programs about school life  such as  teachers  . my   years in the teaching profession lead me to believe that bromwell high  s satire is much closer to reality than is  teachers  . the scramble to survive financially  the insightful students who can see right through their pathetic teachers  pomp  the pettiness of the whole situation  all remind me of the schools i knew and their students . when i saw the episode in which a student repeatedly tried to burn down the school  i immediately recalled . . . . . . . . . at . . . . . . . . . . high . a classic line inspector i  m here to sack one of your teachers . student welcome to bromwell high . i expect that many adults of my age think that bromwell high is far fetched . what a pity that it isn  t   \n"
     ]
    }
   ],
   "source": [
    "print ('Sample Positive Review-->')\n",
    "print (reviews.split('\\n')[0])"
   ]
  },
  {
   "cell_type": "code",
   "execution_count": 12,
   "metadata": {
    "collapsed": false
   },
   "outputs": [
    {
     "name": "stdout",
     "output_type": "stream",
     "text": [
      "Sample Negative Review-->\n",
      "story of a man who has unnatural feelings for a pig . starts out with a opening scene that is a terrific example of absurd comedy . a formal orchestra audience is turned into an insane  violent mob by the crazy chantings of it  s singers . unfortunately it stays absurd the whole time with no general narrative eventually making it just too off putting . even those from the era should be turned off . the cryptic dialogue would make shakespeare seem easy to a third grader . on a technical level it  s better than you might think with some good cinematography by future great vilmos zsigmond . future stars sally kirkland and frederic forrest can be seen briefly .  \n"
     ]
    }
   ],
   "source": [
    "print ('Sample Negative Review-->')\n",
    "print (reviews.split('\\n')[1])"
   ]
  },
  {
   "cell_type": "code",
   "execution_count": 13,
   "metadata": {
    "collapsed": false
   },
   "outputs": [
    {
     "data": {
      "text/plain": [
       "25001"
      ]
     },
     "execution_count": 13,
     "metadata": {},
     "output_type": "execute_result"
    }
   ],
   "source": [
    "len(labels.split('\\n'))"
   ]
  },
  {
   "cell_type": "markdown",
   "metadata": {},
   "source": [
    "## Some data analysis"
   ]
  },
  {
   "cell_type": "code",
   "execution_count": 14,
   "metadata": {
    "collapsed": false
   },
   "outputs": [
    {
     "name": "stdout",
     "output_type": "stream",
     "text": [
      "FOR REVIEWS\n",
      "Total words : 6347388\n",
      "Total characters : 33678267\n",
      "Unique words : 74073\n",
      "Unique characters: 29\n",
      "Total:  33678267\n"
     ]
    }
   ],
   "source": [
    "total_words = len(reviews.split())\n",
    "total_characters = len(reviews)\n",
    "unique_words = len(set(reviews.split()))\n",
    "unique_characters = len(set(reviews))\n",
    "total = len(reviews)\n",
    "\n",
    "print ('FOR REVIEWS')\n",
    "print (\"Total words :\", total_words)\n",
    "print (\"Total characters :\", total_characters)\n",
    "print (\"Unique words :\", unique_words)\n",
    "print (\"Unique characters:\", unique_characters)\n",
    "print ('Total: ', total)"
   ]
  },
  {
   "cell_type": "code",
   "execution_count": 15,
   "metadata": {
    "collapsed": true
   },
   "outputs": [],
   "source": [
    "from string import punctuation\n",
    "\n",
    "all_text = ''.join([c for c in reviews if c not in punctuation])\n",
    "reviews = all_text.split('\\n')\n",
    "labels = labels.split('\\n')\n",
    "\n",
    "all_text = ' '.join(reviews)\n",
    "words = all_text.split()"
   ]
  },
  {
   "cell_type": "code",
   "execution_count": 16,
   "metadata": {
    "collapsed": false
   },
   "outputs": [],
   "source": [
    "positive_counts = Counter()\n",
    "negative_counts = Counter()\n",
    "total_counts = Counter()"
   ]
  },
  {
   "cell_type": "code",
   "execution_count": 17,
   "metadata": {
    "collapsed": false
   },
   "outputs": [],
   "source": [
    "for i in range(len(reviews)):\n",
    "    if(labels[i] == 'positive'):\n",
    "        for word in reviews[i].split():\n",
    "            positive_counts[word] += 1\n",
    "            total_counts[word] += 1\n",
    "    else:\n",
    "        for word in reviews[i].split():\n",
    "            negative_counts[word] += 1\n",
    "            total_counts[word] += 1"
   ]
  },
  {
   "cell_type": "code",
   "execution_count": 18,
   "metadata": {
    "collapsed": false
   },
   "outputs": [
    {
     "data": {
      "text/plain": [
       "[('the', 173324),\n",
       " ('and', 89722),\n",
       " ('a', 83688),\n",
       " ('of', 76855),\n",
       " ('to', 66746),\n",
       " ('is', 57245),\n",
       " ('in', 50215),\n",
       " ('br', 49235),\n",
       " ('it', 48025),\n",
       " ('i', 40743),\n",
       " ('that', 35630),\n",
       " ('this', 35080),\n",
       " ('s', 33815),\n",
       " ('as', 26308),\n",
       " ('with', 23247),\n",
       " ('for', 22416),\n",
       " ('was', 21917),\n",
       " ('film', 20937),\n",
       " ('but', 20822),\n",
       " ('movie', 19074)]"
      ]
     },
     "execution_count": 18,
     "metadata": {},
     "output_type": "execute_result"
    }
   ],
   "source": [
    "positive_counts.most_common()[:20]"
   ]
  },
  {
   "cell_type": "code",
   "execution_count": 19,
   "metadata": {
    "collapsed": false
   },
   "outputs": [
    {
     "data": {
      "text/plain": [
       "[('the', 163389),\n",
       " ('a', 79321),\n",
       " ('and', 74385),\n",
       " ('of', 69009),\n",
       " ('to', 68974),\n",
       " ('br', 52637),\n",
       " ('is', 50083),\n",
       " ('it', 48327),\n",
       " ('i', 46880),\n",
       " ('in', 43753),\n",
       " ('this', 40920),\n",
       " ('that', 37615),\n",
       " ('s', 31546),\n",
       " ('was', 26291),\n",
       " ('movie', 24965),\n",
       " ('for', 21927),\n",
       " ('but', 21781),\n",
       " ('with', 20878),\n",
       " ('as', 20625),\n",
       " ('t', 20361)]"
      ]
     },
     "execution_count": 19,
     "metadata": {},
     "output_type": "execute_result"
    }
   ],
   "source": [
    "negative_counts.most_common()[:20]"
   ]
  },
  {
   "cell_type": "code",
   "execution_count": 20,
   "metadata": {
    "collapsed": false
   },
   "outputs": [],
   "source": [
    "pos_neg_ratios = Counter()\n",
    "for term,cnt in list(total_counts.most_common()):\n",
    "    if(cnt > 100):\n",
    "        pos_neg_ratio = positive_counts[term] / float(negative_counts[term]+1)\n",
    "        pos_neg_ratios[term] = pos_neg_ratio"
   ]
  },
  {
   "cell_type": "code",
   "execution_count": 21,
   "metadata": {
    "collapsed": false
   },
   "outputs": [
    {
     "name": "stdout",
     "output_type": "stream",
     "text": [
      "Pos-to-neg ratio for 'the' = 1.0607993145235326\n",
      "Pos-to-neg ratio for 'amazing' = 4.022813688212928\n",
      "Pos-to-neg ratio for 'terrible' = 0.17744252873563218\n"
     ]
    }
   ],
   "source": [
    "print(\"Pos-to-neg ratio for 'the' = {}\".format(pos_neg_ratios[\"the\"]))\n",
    "print(\"Pos-to-neg ratio for 'amazing' = {}\".format(pos_neg_ratios[\"amazing\"]))\n",
    "print(\"Pos-to-neg ratio for 'terrible' = {}\".format(pos_neg_ratios[\"terrible\"]))"
   ]
  },
  {
   "cell_type": "code",
   "execution_count": 22,
   "metadata": {
    "collapsed": true
   },
   "outputs": [],
   "source": [
    "for word,ratio in pos_neg_ratios.most_common():\n",
    "    pos_neg_ratios[word] = np.log(ratio)"
   ]
  },
  {
   "cell_type": "code",
   "execution_count": 23,
   "metadata": {
    "collapsed": false
   },
   "outputs": [
    {
     "name": "stdout",
     "output_type": "stream",
     "text": [
      "Pos-to-neg ratio for 'the' = 0.05902269426102881\n",
      "Pos-to-neg ratio for 'amazing' = 1.3919815802404802\n",
      "Pos-to-neg ratio for 'terrible' = -1.7291085042663878\n"
     ]
    }
   ],
   "source": [
    "print(\"Pos-to-neg ratio for 'the' = {}\".format(pos_neg_ratios[\"the\"]))\n",
    "print(\"Pos-to-neg ratio for 'amazing' = {}\".format(pos_neg_ratios[\"amazing\"]))\n",
    "print(\"Pos-to-neg ratio for 'terrible' = {}\".format(pos_neg_ratios[\"terrible\"]))"
   ]
  },
  {
   "cell_type": "code",
   "execution_count": 24,
   "metadata": {
    "collapsed": false
   },
   "outputs": [
    {
     "data": {
      "text/plain": [
       "[('edie', 4.6913478822291435),\n",
       " ('paulie', 4.0775374439057197),\n",
       " ('felix', 3.1527360223636558),\n",
       " ('polanski', 2.8233610476132043),\n",
       " ('matthau', 2.8067217286092401),\n",
       " ('victoria', 2.6810215287142909),\n",
       " ('mildred', 2.6026896854443837),\n",
       " ('gandhi', 2.5389738710582761),\n",
       " ('flawless', 2.451005098112319),\n",
       " ('superbly', 2.2600254785752498),\n",
       " ('perfection', 2.1594842493533721),\n",
       " ('astaire', 2.1400661634962708),\n",
       " ('captures', 2.0386195471595809),\n",
       " ('voight', 2.0301704926730531),\n",
       " ('wonderfully', 2.0218960560332353),\n",
       " ('powell', 1.9783454248084671),\n",
       " ('brosnan', 1.9547990964725592),\n",
       " ('lily', 1.9203768470501485),\n",
       " ('bakshi', 1.9029851043382795),\n",
       " ('lincoln', 1.9014583864844796),\n",
       " ('refreshing', 1.8551812956655511),\n",
       " ('breathtaking', 1.8481124057791867),\n",
       " ('bourne', 1.8478489358790986),\n",
       " ('lemmon', 1.8458266904983307),\n",
       " ('delightful', 1.8002701588959635),\n",
       " ('flynn', 1.7996646487351682),\n",
       " ('andrews', 1.7764919970972666),\n",
       " ('homer', 1.7692866133759964),\n",
       " ('beautifully', 1.7626953362841438),\n",
       " ('soccer', 1.7578579175523736)]"
      ]
     },
     "execution_count": 24,
     "metadata": {},
     "output_type": "execute_result"
    }
   ],
   "source": [
    "pos_neg_ratios.most_common()[:30]"
   ]
  },
  {
   "cell_type": "markdown",
   "metadata": {},
   "source": [
    "Encoding words to integers. Buidling a dictionary to convert words to integers."
   ]
  },
  {
   "cell_type": "code",
   "execution_count": 25,
   "metadata": {
    "collapsed": false
   },
   "outputs": [],
   "source": [
    "counts = Counter(words)\n",
    "vocab = sorted(counts, key=counts.get, reverse=True)\n",
    "vocab_to_int = {word: ii for ii, word in enumerate(vocab, 1)}\n",
    "\n",
    "reviews_ints = []\n",
    "for each in reviews:\n",
    "    reviews_ints.append([vocab_to_int[word] for word in each.split()])"
   ]
  },
  {
   "cell_type": "code",
   "execution_count": 26,
   "metadata": {
    "collapsed": false
   },
   "outputs": [
    {
     "data": {
      "text/plain": [
       "{'the': 1,\n",
       " 'and': 2,\n",
       " 'a': 3,\n",
       " 'of': 4,\n",
       " 'to': 5,\n",
       " 'is': 6,\n",
       " 'br': 7,\n",
       " 'it': 8,\n",
       " 'in': 9,\n",
       " 'i': 10,\n",
       " 'this': 11,\n",
       " 'that': 12,\n",
       " 's': 13,\n",
       " 'was': 14,\n",
       " 'as': 15,\n",
       " 'for': 16,\n",
       " 'with': 17,\n",
       " 'movie': 18,\n",
       " 'but': 19,\n",
       " 'film': 20,\n",
       " 'you': 21,\n",
       " 'on': 22,\n",
       " 't': 23,\n",
       " 'not': 24,\n",
       " 'he': 25,\n",
       " 'are': 26,\n",
       " 'his': 27,\n",
       " 'have': 28,\n",
       " 'be': 29,\n",
       " 'one': 30,\n",
       " 'all': 31,\n",
       " 'at': 32,\n",
       " 'they': 33,\n",
       " 'by': 34,\n",
       " 'an': 35,\n",
       " 'who': 36,\n",
       " 'so': 37,\n",
       " 'from': 38,\n",
       " 'like': 39,\n",
       " 'there': 40,\n",
       " 'her': 41,\n",
       " 'or': 42,\n",
       " 'just': 43,\n",
       " 'about': 44,\n",
       " 'out': 45,\n",
       " 'if': 46,\n",
       " 'has': 47,\n",
       " 'what': 48,\n",
       " 'some': 49,\n",
       " 'good': 50,\n",
       " 'can': 51,\n",
       " 'more': 52,\n",
       " 'she': 53,\n",
       " 'when': 54,\n",
       " 'very': 55,\n",
       " 'up': 56,\n",
       " 'time': 57,\n",
       " 'no': 58,\n",
       " 'even': 59,\n",
       " 'my': 60,\n",
       " 'would': 61,\n",
       " 'which': 62,\n",
       " 'story': 63,\n",
       " 'only': 64,\n",
       " 'really': 65,\n",
       " 'see': 66,\n",
       " 'their': 67,\n",
       " 'had': 68,\n",
       " 'we': 69,\n",
       " 'were': 70,\n",
       " 'me': 71,\n",
       " 'well': 72,\n",
       " 'than': 73,\n",
       " 'much': 74,\n",
       " 'get': 75,\n",
       " 'bad': 76,\n",
       " 'been': 77,\n",
       " 'people': 78,\n",
       " 'will': 79,\n",
       " 'do': 80,\n",
       " 'other': 81,\n",
       " 'also': 82,\n",
       " 'into': 83,\n",
       " 'first': 84,\n",
       " 'great': 85,\n",
       " 'because': 86,\n",
       " 'how': 87,\n",
       " 'him': 88,\n",
       " 'don': 89,\n",
       " 'most': 90,\n",
       " 'made': 91,\n",
       " 'its': 92,\n",
       " 'then': 93,\n",
       " 'make': 94,\n",
       " 'way': 95,\n",
       " 'them': 96,\n",
       " 'could': 97,\n",
       " 'too': 98,\n",
       " 'movies': 99,\n",
       " 'any': 100,\n",
       " 'after': 101,\n",
       " 'think': 102,\n",
       " 'characters': 103,\n",
       " 'character': 104,\n",
       " 'watch': 105,\n",
       " 'two': 106,\n",
       " 'films': 107,\n",
       " 'seen': 108,\n",
       " 'many': 109,\n",
       " 'life': 110,\n",
       " 'being': 111,\n",
       " 'plot': 112,\n",
       " 'acting': 113,\n",
       " 'never': 114,\n",
       " 'love': 115,\n",
       " 'little': 116,\n",
       " 'best': 117,\n",
       " 'where': 118,\n",
       " 'over': 119,\n",
       " 'did': 120,\n",
       " 'show': 121,\n",
       " 'know': 122,\n",
       " 'off': 123,\n",
       " 'ever': 124,\n",
       " 'man': 125,\n",
       " 'does': 126,\n",
       " 'here': 127,\n",
       " 'better': 128,\n",
       " 'your': 129,\n",
       " 'end': 130,\n",
       " 'still': 131,\n",
       " 'these': 132,\n",
       " 'say': 133,\n",
       " 'scene': 134,\n",
       " 'why': 135,\n",
       " 'while': 136,\n",
       " 'scenes': 137,\n",
       " 'go': 138,\n",
       " 've': 139,\n",
       " 'such': 140,\n",
       " 'something': 141,\n",
       " 'should': 142,\n",
       " 'm': 143,\n",
       " 'back': 144,\n",
       " 'through': 145,\n",
       " 'real': 146,\n",
       " 'those': 147,\n",
       " 'watching': 148,\n",
       " 'now': 149,\n",
       " 'though': 150,\n",
       " 'doesn': 151,\n",
       " 'thing': 152,\n",
       " 'old': 153,\n",
       " 'years': 154,\n",
       " 're': 155,\n",
       " 'actors': 156,\n",
       " 'director': 157,\n",
       " 'work': 158,\n",
       " 'another': 159,\n",
       " 'before': 160,\n",
       " 'didn': 161,\n",
       " 'new': 162,\n",
       " 'nothing': 163,\n",
       " 'funny': 164,\n",
       " 'actually': 165,\n",
       " 'makes': 166,\n",
       " 'look': 167,\n",
       " 'find': 168,\n",
       " 'going': 169,\n",
       " 'few': 170,\n",
       " 'same': 171,\n",
       " 'part': 172,\n",
       " 'again': 173,\n",
       " 'every': 174,\n",
       " 'lot': 175,\n",
       " 'world': 176,\n",
       " 'cast': 177,\n",
       " 'us': 178,\n",
       " 'quite': 179,\n",
       " 'down': 180,\n",
       " 'want': 181,\n",
       " 'things': 182,\n",
       " 'pretty': 183,\n",
       " 'young': 184,\n",
       " 'seems': 185,\n",
       " 'around': 186,\n",
       " 'horror': 187,\n",
       " 'got': 188,\n",
       " 'however': 189,\n",
       " 'fact': 190,\n",
       " 'take': 191,\n",
       " 'big': 192,\n",
       " 'enough': 193,\n",
       " 'long': 194,\n",
       " 'thought': 195,\n",
       " 'series': 196,\n",
       " 'both': 197,\n",
       " 'between': 198,\n",
       " 'may': 199,\n",
       " 'give': 200,\n",
       " 'original': 201,\n",
       " 'action': 202,\n",
       " 'own': 203,\n",
       " 'right': 204,\n",
       " 'without': 205,\n",
       " 'must': 206,\n",
       " 'comedy': 207,\n",
       " 'always': 208,\n",
       " 'times': 209,\n",
       " 'point': 210,\n",
       " 'gets': 211,\n",
       " 'family': 212,\n",
       " 'come': 213,\n",
       " 'role': 214,\n",
       " 'isn': 215,\n",
       " 'saw': 216,\n",
       " 'almost': 217,\n",
       " 'interesting': 218,\n",
       " 'least': 219,\n",
       " 'done': 220,\n",
       " 'whole': 221,\n",
       " 'd': 222,\n",
       " 'bit': 223,\n",
       " 'music': 224,\n",
       " 'guy': 225,\n",
       " 'script': 226,\n",
       " 'far': 227,\n",
       " 'making': 228,\n",
       " 'minutes': 229,\n",
       " 'feel': 230,\n",
       " 'anything': 231,\n",
       " 'last': 232,\n",
       " 'might': 233,\n",
       " 'since': 234,\n",
       " 'performance': 235,\n",
       " 'll': 236,\n",
       " 'girl': 237,\n",
       " 'probably': 238,\n",
       " 'am': 239,\n",
       " 'woman': 240,\n",
       " 'kind': 241,\n",
       " 'tv': 242,\n",
       " 'away': 243,\n",
       " 'yet': 244,\n",
       " 'day': 245,\n",
       " 'rather': 246,\n",
       " 'worst': 247,\n",
       " 'fun': 248,\n",
       " 'sure': 249,\n",
       " 'hard': 250,\n",
       " 'anyone': 251,\n",
       " 'played': 252,\n",
       " 'each': 253,\n",
       " 'found': 254,\n",
       " 'having': 255,\n",
       " 'although': 256,\n",
       " 'especially': 257,\n",
       " 'our': 258,\n",
       " 'course': 259,\n",
       " 'believe': 260,\n",
       " 'screen': 261,\n",
       " 'comes': 262,\n",
       " 'looking': 263,\n",
       " 'trying': 264,\n",
       " 'set': 265,\n",
       " 'goes': 266,\n",
       " 'book': 267,\n",
       " 'looks': 268,\n",
       " 'place': 269,\n",
       " 'actor': 270,\n",
       " 'different': 271,\n",
       " 'put': 272,\n",
       " 'money': 273,\n",
       " 'year': 274,\n",
       " 'ending': 275,\n",
       " 'dvd': 276,\n",
       " 'maybe': 277,\n",
       " 'let': 278,\n",
       " 'someone': 279,\n",
       " 'true': 280,\n",
       " 'once': 281,\n",
       " 'sense': 282,\n",
       " 'everything': 283,\n",
       " 'reason': 284,\n",
       " 'wasn': 285,\n",
       " 'shows': 286,\n",
       " 'three': 287,\n",
       " 'worth': 288,\n",
       " 'job': 289,\n",
       " 'main': 290,\n",
       " 'together': 291,\n",
       " 'play': 292,\n",
       " 'watched': 293,\n",
       " 'american': 294,\n",
       " 'everyone': 295,\n",
       " 'plays': 296,\n",
       " 'john': 297,\n",
       " 'effects': 298,\n",
       " 'later': 299,\n",
       " 'audience': 300,\n",
       " 'said': 301,\n",
       " 'takes': 302,\n",
       " 'instead': 303,\n",
       " 'house': 304,\n",
       " 'beautiful': 305,\n",
       " 'seem': 306,\n",
       " 'night': 307,\n",
       " 'high': 308,\n",
       " 'himself': 309,\n",
       " 'version': 310,\n",
       " 'wife': 311,\n",
       " 'during': 312,\n",
       " 'left': 313,\n",
       " 'father': 314,\n",
       " 'special': 315,\n",
       " 'seeing': 316,\n",
       " 'half': 317,\n",
       " 'star': 318,\n",
       " 'excellent': 319,\n",
       " 'war': 320,\n",
       " 'shot': 321,\n",
       " 'idea': 322,\n",
       " 'black': 323,\n",
       " 'nice': 324,\n",
       " 'less': 325,\n",
       " 'else': 326,\n",
       " 'mind': 327,\n",
       " 'simply': 328,\n",
       " 'read': 329,\n",
       " 'second': 330,\n",
       " 'fan': 331,\n",
       " 'men': 332,\n",
       " 'death': 333,\n",
       " 'hollywood': 334,\n",
       " 'poor': 335,\n",
       " 'help': 336,\n",
       " 'completely': 337,\n",
       " 'used': 338,\n",
       " 'home': 339,\n",
       " 'dead': 340,\n",
       " 'line': 341,\n",
       " 'short': 342,\n",
       " 'either': 343,\n",
       " 'given': 344,\n",
       " 'top': 345,\n",
       " 'kids': 346,\n",
       " 'budget': 347,\n",
       " 'try': 348,\n",
       " 'classic': 349,\n",
       " 'wrong': 350,\n",
       " 'performances': 351,\n",
       " 'women': 352,\n",
       " 'enjoy': 353,\n",
       " 'boring': 354,\n",
       " 'need': 355,\n",
       " 'use': 356,\n",
       " 'rest': 357,\n",
       " 'low': 358,\n",
       " 'friends': 359,\n",
       " 'production': 360,\n",
       " 'full': 361,\n",
       " 'camera': 362,\n",
       " 'until': 363,\n",
       " 'along': 364,\n",
       " 'truly': 365,\n",
       " 'video': 366,\n",
       " 'awful': 367,\n",
       " 'couple': 368,\n",
       " 'tell': 369,\n",
       " 'next': 370,\n",
       " 'remember': 371,\n",
       " 'stupid': 372,\n",
       " 'start': 373,\n",
       " 'stars': 374,\n",
       " 'perhaps': 375,\n",
       " 'sex': 376,\n",
       " 'mean': 377,\n",
       " 'won': 378,\n",
       " 'came': 379,\n",
       " 'recommend': 380,\n",
       " 'moments': 381,\n",
       " 'school': 382,\n",
       " 'episode': 383,\n",
       " 'wonderful': 384,\n",
       " 'small': 385,\n",
       " 'face': 386,\n",
       " 'understand': 387,\n",
       " 'terrible': 388,\n",
       " 'playing': 389,\n",
       " 'getting': 390,\n",
       " 'written': 391,\n",
       " 'early': 392,\n",
       " 'name': 393,\n",
       " 'doing': 394,\n",
       " 'often': 395,\n",
       " 'style': 396,\n",
       " 'keep': 397,\n",
       " 'perfect': 398,\n",
       " 'human': 399,\n",
       " 'others': 400,\n",
       " 'person': 401,\n",
       " 'definitely': 402,\n",
       " 'gives': 403,\n",
       " 'itself': 404,\n",
       " 'boy': 405,\n",
       " 'lines': 406,\n",
       " 'lost': 407,\n",
       " 'live': 408,\n",
       " 'become': 409,\n",
       " 'dialogue': 410,\n",
       " 'head': 411,\n",
       " 'piece': 412,\n",
       " 'finally': 413,\n",
       " 'case': 414,\n",
       " 'yes': 415,\n",
       " 'felt': 416,\n",
       " 'mother': 417,\n",
       " 'liked': 418,\n",
       " 'supposed': 419,\n",
       " 'children': 420,\n",
       " 'title': 421,\n",
       " 'couldn': 422,\n",
       " 'cinema': 423,\n",
       " 'white': 424,\n",
       " 'absolutely': 425,\n",
       " 'picture': 426,\n",
       " 'against': 427,\n",
       " 'sort': 428,\n",
       " 'worse': 429,\n",
       " 'certainly': 430,\n",
       " 'went': 431,\n",
       " 'entire': 432,\n",
       " 'waste': 433,\n",
       " 'killer': 434,\n",
       " 'problem': 435,\n",
       " 'oh': 436,\n",
       " 'mr': 437,\n",
       " 'hope': 438,\n",
       " 'evil': 439,\n",
       " 'entertaining': 440,\n",
       " 'friend': 441,\n",
       " 'overall': 442,\n",
       " 'called': 443,\n",
       " 'based': 444,\n",
       " 'loved': 445,\n",
       " 'fans': 446,\n",
       " 'several': 447,\n",
       " 'drama': 448,\n",
       " 'beginning': 449,\n",
       " 'lives': 450,\n",
       " 'direction': 451,\n",
       " 'care': 452,\n",
       " 'already': 453,\n",
       " 'dark': 454,\n",
       " 'becomes': 455,\n",
       " 'laugh': 456,\n",
       " 'example': 457,\n",
       " 'under': 458,\n",
       " 'despite': 459,\n",
       " 'seemed': 460,\n",
       " 'throughout': 461,\n",
       " 'turn': 462,\n",
       " 'son': 463,\n",
       " 'unfortunately': 464,\n",
       " 'wanted': 465,\n",
       " 'michael': 466,\n",
       " 'history': 467,\n",
       " 'heart': 468,\n",
       " 'final': 469,\n",
       " 'fine': 470,\n",
       " 'child': 471,\n",
       " 'sound': 472,\n",
       " 'amazing': 473,\n",
       " 'guess': 474,\n",
       " 'lead': 475,\n",
       " 'humor': 476,\n",
       " 'totally': 477,\n",
       " 'writing': 478,\n",
       " 'guys': 479,\n",
       " 'quality': 480,\n",
       " 'close': 481,\n",
       " 'art': 482,\n",
       " 'wants': 483,\n",
       " 'game': 484,\n",
       " 'behind': 485,\n",
       " 'works': 486,\n",
       " 'town': 487,\n",
       " 'side': 488,\n",
       " 'tries': 489,\n",
       " 'days': 490,\n",
       " 'past': 491,\n",
       " 'viewer': 492,\n",
       " 'able': 493,\n",
       " 'flick': 494,\n",
       " 'hand': 495,\n",
       " 'genre': 496,\n",
       " 'turns': 497,\n",
       " 'act': 498,\n",
       " 'enjoyed': 499,\n",
       " 'today': 500,\n",
       " 'kill': 501,\n",
       " 'favorite': 502,\n",
       " 'car': 503,\n",
       " 'soon': 504,\n",
       " 'starts': 505,\n",
       " 'run': 506,\n",
       " 'actress': 507,\n",
       " 'sometimes': 508,\n",
       " 'gave': 509,\n",
       " 'eyes': 510,\n",
       " 'b': 511,\n",
       " 'late': 512,\n",
       " 'girls': 513,\n",
       " 'etc': 514,\n",
       " 'god': 515,\n",
       " 'directed': 516,\n",
       " 'horrible': 517,\n",
       " 'kid': 518,\n",
       " 'city': 519,\n",
       " 'brilliant': 520,\n",
       " 'parts': 521,\n",
       " 'hour': 522,\n",
       " 'blood': 523,\n",
       " 'self': 524,\n",
       " 'themselves': 525,\n",
       " 'stories': 526,\n",
       " 'thinking': 527,\n",
       " 'expect': 528,\n",
       " 'stuff': 529,\n",
       " 'obviously': 530,\n",
       " 'decent': 531,\n",
       " 'voice': 532,\n",
       " 'writer': 533,\n",
       " 'fight': 534,\n",
       " 'highly': 535,\n",
       " 'myself': 536,\n",
       " 'feeling': 537,\n",
       " 'daughter': 538,\n",
       " 'slow': 539,\n",
       " 'except': 540,\n",
       " 'matter': 541,\n",
       " 'type': 542,\n",
       " 'age': 543,\n",
       " 'anyway': 544,\n",
       " 'roles': 545,\n",
       " 'moment': 546,\n",
       " 'killed': 547,\n",
       " 'heard': 548,\n",
       " 'says': 549,\n",
       " 'leave': 550,\n",
       " 'brother': 551,\n",
       " 'took': 552,\n",
       " 'strong': 553,\n",
       " 'cannot': 554,\n",
       " 'police': 555,\n",
       " 'violence': 556,\n",
       " 'hit': 557,\n",
       " 'stop': 558,\n",
       " 'happens': 559,\n",
       " 'known': 560,\n",
       " 'particularly': 561,\n",
       " 'involved': 562,\n",
       " 'happened': 563,\n",
       " 'chance': 564,\n",
       " 'extremely': 565,\n",
       " 'james': 566,\n",
       " 'obvious': 567,\n",
       " 'murder': 568,\n",
       " 'told': 569,\n",
       " 'living': 570,\n",
       " 'coming': 571,\n",
       " 'alone': 572,\n",
       " 'experience': 573,\n",
       " 'lack': 574,\n",
       " 'hero': 575,\n",
       " 'wouldn': 576,\n",
       " 'including': 577,\n",
       " 'attempt': 578,\n",
       " 'please': 579,\n",
       " 'happen': 580,\n",
       " 'gore': 581,\n",
       " 'crap': 582,\n",
       " 'wonder': 583,\n",
       " 'cut': 584,\n",
       " 'group': 585,\n",
       " 'complete': 586,\n",
       " 'ago': 587,\n",
       " 'interest': 588,\n",
       " 'none': 589,\n",
       " 'score': 590,\n",
       " 'husband': 591,\n",
       " 'hell': 592,\n",
       " 'save': 593,\n",
       " 'david': 594,\n",
       " 'simple': 595,\n",
       " 'ok': 596,\n",
       " 'looked': 597,\n",
       " 'song': 598,\n",
       " 'career': 599,\n",
       " 'number': 600,\n",
       " 'seriously': 601,\n",
       " 'possible': 602,\n",
       " 'annoying': 603,\n",
       " 'sad': 604,\n",
       " 'exactly': 605,\n",
       " 'shown': 606,\n",
       " 'king': 607,\n",
       " 'running': 608,\n",
       " 'musical': 609,\n",
       " 'yourself': 610,\n",
       " 'serious': 611,\n",
       " 'scary': 612,\n",
       " 'reality': 613,\n",
       " 'taken': 614,\n",
       " 'whose': 615,\n",
       " 'released': 616,\n",
       " 'cinematography': 617,\n",
       " 'english': 618,\n",
       " 'ends': 619,\n",
       " 'hours': 620,\n",
       " 'usually': 621,\n",
       " 'opening': 622,\n",
       " 'jokes': 623,\n",
       " 'light': 624,\n",
       " 'hilarious': 625,\n",
       " 'across': 626,\n",
       " 'cool': 627,\n",
       " 'body': 628,\n",
       " 'somewhat': 629,\n",
       " 'usual': 630,\n",
       " 'happy': 631,\n",
       " 'relationship': 632,\n",
       " 'ridiculous': 633,\n",
       " 'view': 634,\n",
       " 'level': 635,\n",
       " 'started': 636,\n",
       " 'change': 637,\n",
       " 'opinion': 638,\n",
       " 'wish': 639,\n",
       " 'novel': 640,\n",
       " 'middle': 641,\n",
       " 'talking': 642,\n",
       " 'taking': 643,\n",
       " 'documentary': 644,\n",
       " 'ones': 645,\n",
       " 'robert': 646,\n",
       " 'order': 647,\n",
       " 'shots': 648,\n",
       " 'finds': 649,\n",
       " 'power': 650,\n",
       " 'saying': 651,\n",
       " 'female': 652,\n",
       " 'huge': 653,\n",
       " 'room': 654,\n",
       " 'mostly': 655,\n",
       " 'episodes': 656,\n",
       " 'country': 657,\n",
       " 'five': 658,\n",
       " 'talent': 659,\n",
       " 'important': 660,\n",
       " 'rating': 661,\n",
       " 'modern': 662,\n",
       " 'earth': 663,\n",
       " 'strange': 664,\n",
       " 'major': 665,\n",
       " 'word': 666,\n",
       " 'turned': 667,\n",
       " 'call': 668,\n",
       " 'jack': 669,\n",
       " 'apparently': 670,\n",
       " 'single': 671,\n",
       " 'disappointed': 672,\n",
       " 'events': 673,\n",
       " 'four': 674,\n",
       " 'due': 675,\n",
       " 'songs': 676,\n",
       " 'basically': 677,\n",
       " 'attention': 678,\n",
       " 'television': 679,\n",
       " 'comic': 680,\n",
       " 'knows': 681,\n",
       " 'future': 682,\n",
       " 'non': 683,\n",
       " 'supporting': 684,\n",
       " 'clearly': 685,\n",
       " 'knew': 686,\n",
       " 'british': 687,\n",
       " 'fast': 688,\n",
       " 'thriller': 689,\n",
       " 'paul': 690,\n",
       " 'class': 691,\n",
       " 'easily': 692,\n",
       " 'cheap': 693,\n",
       " 'silly': 694,\n",
       " 'problems': 695,\n",
       " 'aren': 696,\n",
       " 'words': 697,\n",
       " 'miss': 698,\n",
       " 'tells': 699,\n",
       " 'entertainment': 700,\n",
       " 'local': 701,\n",
       " 'sequence': 702,\n",
       " 'rock': 703,\n",
       " 'bring': 704,\n",
       " 'beyond': 705,\n",
       " 'george': 706,\n",
       " 'straight': 707,\n",
       " 'oscar': 708,\n",
       " 'o': 709,\n",
       " 'upon': 710,\n",
       " 'romantic': 711,\n",
       " 'whether': 712,\n",
       " 'predictable': 713,\n",
       " 'moving': 714,\n",
       " 'sets': 715,\n",
       " 'similar': 716,\n",
       " 'review': 717,\n",
       " 'eye': 718,\n",
       " 'falls': 719,\n",
       " 'mystery': 720,\n",
       " 'lady': 721,\n",
       " 'richard': 722,\n",
       " 'talk': 723,\n",
       " 'enjoyable': 724,\n",
       " 'appears': 725,\n",
       " 'needs': 726,\n",
       " 'giving': 727,\n",
       " 'within': 728,\n",
       " 'message': 729,\n",
       " 'theater': 730,\n",
       " 'ten': 731,\n",
       " 'animation': 732,\n",
       " 'near': 733,\n",
       " 'team': 734,\n",
       " 'above': 735,\n",
       " 'sequel': 736,\n",
       " 'red': 737,\n",
       " 'sister': 738,\n",
       " 'dull': 739,\n",
       " 'theme': 740,\n",
       " 'stand': 741,\n",
       " 'nearly': 742,\n",
       " 'lee': 743,\n",
       " 'bunch': 744,\n",
       " 'points': 745,\n",
       " 'mention': 746,\n",
       " 'add': 747,\n",
       " 'york': 748,\n",
       " 'feels': 749,\n",
       " 'herself': 750,\n",
       " 'haven': 751,\n",
       " 'release': 752,\n",
       " 'ways': 753,\n",
       " 'storyline': 754,\n",
       " 'easy': 755,\n",
       " 'surprised': 756,\n",
       " 'using': 757,\n",
       " 'named': 758,\n",
       " 'fantastic': 759,\n",
       " 'lots': 760,\n",
       " 'begins': 761,\n",
       " 'working': 762,\n",
       " 'die': 763,\n",
       " 'actual': 764,\n",
       " 'effort': 765,\n",
       " 'feature': 766,\n",
       " 'tale': 767,\n",
       " 'french': 768,\n",
       " 'minute': 769,\n",
       " 'hate': 770,\n",
       " 'stay': 771,\n",
       " 'follow': 772,\n",
       " 'viewers': 773,\n",
       " 'clear': 774,\n",
       " 'tom': 775,\n",
       " 'elements': 776,\n",
       " 'among': 777,\n",
       " 'comments': 778,\n",
       " 'typical': 779,\n",
       " 'editing': 780,\n",
       " 'avoid': 781,\n",
       " 'showing': 782,\n",
       " 'tried': 783,\n",
       " 'season': 784,\n",
       " 'famous': 785,\n",
       " 'sorry': 786,\n",
       " 'fall': 787,\n",
       " 'dialog': 788,\n",
       " 'check': 789,\n",
       " 'peter': 790,\n",
       " 'period': 791,\n",
       " 'form': 792,\n",
       " 'certain': 793,\n",
       " 'general': 794,\n",
       " 'filmed': 795,\n",
       " 'buy': 796,\n",
       " 'soundtrack': 797,\n",
       " 'parents': 798,\n",
       " 'weak': 799,\n",
       " 'means': 800,\n",
       " 'material': 801,\n",
       " 'realistic': 802,\n",
       " 'figure': 803,\n",
       " 'doubt': 804,\n",
       " 'somehow': 805,\n",
       " 'crime': 806,\n",
       " 'space': 807,\n",
       " 'gone': 808,\n",
       " 'disney': 809,\n",
       " 'kept': 810,\n",
       " 'viewing': 811,\n",
       " 'leads': 812,\n",
       " 'greatest': 813,\n",
       " 'th': 814,\n",
       " 'dance': 815,\n",
       " 'lame': 816,\n",
       " 'suspense': 817,\n",
       " 'zombie': 818,\n",
       " 'third': 819,\n",
       " 'brought': 820,\n",
       " 'imagine': 821,\n",
       " 'atmosphere': 822,\n",
       " 'hear': 823,\n",
       " 'whatever': 824,\n",
       " 'particular': 825,\n",
       " 'de': 826,\n",
       " 'america': 827,\n",
       " 'sequences': 828,\n",
       " 'move': 829,\n",
       " 'indeed': 830,\n",
       " 'rent': 831,\n",
       " 'eventually': 832,\n",
       " 'average': 833,\n",
       " 'learn': 834,\n",
       " 'wait': 835,\n",
       " 'forget': 836,\n",
       " 'reviews': 837,\n",
       " 'deal': 838,\n",
       " 'note': 839,\n",
       " 'japanese': 840,\n",
       " 'surprise': 841,\n",
       " 'stage': 842,\n",
       " 'sexual': 843,\n",
       " 'poorly': 844,\n",
       " 'okay': 845,\n",
       " 'premise': 846,\n",
       " 'believable': 847,\n",
       " 'sit': 848,\n",
       " 'nature': 849,\n",
       " 'possibly': 850,\n",
       " 'subject': 851,\n",
       " 'decided': 852,\n",
       " 'expected': 853,\n",
       " 'truth': 854,\n",
       " 'imdb': 855,\n",
       " 'dr': 856,\n",
       " 'street': 857,\n",
       " 'free': 858,\n",
       " 'became': 859,\n",
       " 'screenplay': 860,\n",
       " 'difficult': 861,\n",
       " 'romance': 862,\n",
       " 'killing': 863,\n",
       " 'baby': 864,\n",
       " 'joe': 865,\n",
       " 'dog': 866,\n",
       " 'nor': 867,\n",
       " 'hot': 868,\n",
       " 'reading': 869,\n",
       " 'question': 870,\n",
       " 'needed': 871,\n",
       " 'leaves': 872,\n",
       " 'begin': 873,\n",
       " 'meets': 874,\n",
       " 'society': 875,\n",
       " 'directors': 876,\n",
       " 'unless': 877,\n",
       " 'credits': 878,\n",
       " 'shame': 879,\n",
       " 'superb': 880,\n",
       " 'otherwise': 881,\n",
       " 'write': 882,\n",
       " 'situation': 883,\n",
       " 'meet': 884,\n",
       " 'dramatic': 885,\n",
       " 'male': 886,\n",
       " 'memorable': 887,\n",
       " 'open': 888,\n",
       " 'badly': 889,\n",
       " 'earlier': 890,\n",
       " 'writers': 891,\n",
       " 'weird': 892,\n",
       " 'dream': 893,\n",
       " 'forced': 894,\n",
       " 'fi': 895,\n",
       " 'acted': 896,\n",
       " 'sci': 897,\n",
       " 'crazy': 898,\n",
       " 'laughs': 899,\n",
       " 'emotional': 900,\n",
       " 'jane': 901,\n",
       " 'older': 902,\n",
       " 'monster': 903,\n",
       " 'beauty': 904,\n",
       " 'realize': 905,\n",
       " 'comment': 906,\n",
       " 'deep': 907,\n",
       " 'footage': 908,\n",
       " 'forward': 909,\n",
       " 'interested': 910,\n",
       " 'ask': 911,\n",
       " 'fantasy': 912,\n",
       " 'whom': 913,\n",
       " 'plus': 914,\n",
       " 'sounds': 915,\n",
       " 'mark': 916,\n",
       " 'directing': 917,\n",
       " 'keeps': 918,\n",
       " 'development': 919,\n",
       " 'features': 920,\n",
       " 'mess': 921,\n",
       " 'air': 922,\n",
       " 'quickly': 923,\n",
       " 'creepy': 924,\n",
       " 'box': 925,\n",
       " 'towards': 926,\n",
       " 'girlfriend': 927,\n",
       " 'perfectly': 928,\n",
       " 'worked': 929,\n",
       " 'cheesy': 930,\n",
       " 'unique': 931,\n",
       " 'setting': 932,\n",
       " 'effect': 933,\n",
       " 'plenty': 934,\n",
       " 'total': 935,\n",
       " 'hands': 936,\n",
       " 'bill': 937,\n",
       " 'result': 938,\n",
       " 'previous': 939,\n",
       " 'fire': 940,\n",
       " 'brings': 941,\n",
       " 'personal': 942,\n",
       " 'incredibly': 943,\n",
       " 'rate': 944,\n",
       " 'business': 945,\n",
       " 'joke': 946,\n",
       " 'doctor': 947,\n",
       " 'casting': 948,\n",
       " 'return': 949,\n",
       " 'apart': 950,\n",
       " 'christmas': 951,\n",
       " 'leading': 952,\n",
       " 'e': 953,\n",
       " 'admit': 954,\n",
       " 'powerful': 955,\n",
       " 'appear': 956,\n",
       " 'cop': 957,\n",
       " 'background': 958,\n",
       " 'boys': 959,\n",
       " 'ben': 960,\n",
       " 'present': 961,\n",
       " 'meant': 962,\n",
       " 'era': 963,\n",
       " 'telling': 964,\n",
       " 'battle': 965,\n",
       " 'hardly': 966,\n",
       " 'break': 967,\n",
       " 'create': 968,\n",
       " 'masterpiece': 969,\n",
       " 'potential': 970,\n",
       " 'secret': 971,\n",
       " 'pay': 972,\n",
       " 'political': 973,\n",
       " 'gay': 974,\n",
       " 'fighting': 975,\n",
       " 'dumb': 976,\n",
       " 'fails': 977,\n",
       " 'twist': 978,\n",
       " 'various': 979,\n",
       " 'co': 980,\n",
       " 'portrayed': 981,\n",
       " 'inside': 982,\n",
       " 'villain': 983,\n",
       " 'western': 984,\n",
       " 'nudity': 985,\n",
       " 'outside': 986,\n",
       " 'reasons': 987,\n",
       " 'william': 988,\n",
       " 'ideas': 989,\n",
       " 'front': 990,\n",
       " 'match': 991,\n",
       " 'missing': 992,\n",
       " 'deserves': 993,\n",
       " 'married': 994,\n",
       " 'expecting': 995,\n",
       " 'rich': 996,\n",
       " 'fairly': 997,\n",
       " 'talented': 998,\n",
       " 'list': 999,\n",
       " 'success': 1000,\n",
       " ...}"
      ]
     },
     "execution_count": 26,
     "metadata": {},
     "output_type": "execute_result"
    }
   ],
   "source": [
    "vocab_to_int"
   ]
  },
  {
   "cell_type": "code",
   "execution_count": 27,
   "metadata": {
    "collapsed": false
   },
   "outputs": [
    {
     "name": "stdout",
     "output_type": "stream",
     "text": [
      "bromwell high is a cartoon comedy  it ran at the same time as some other programs about school life  such as  teachers   my   years in the teaching profession lead me to believe that bromwell high  s satire is much closer to reality than is  teachers   the scramble to survive financially  the insightful students who can see right through their pathetic teachers  pomp  the pettiness of the whole situation  all remind me of the schools i knew and their students  when i saw the episode in which a student repeatedly tried to burn down the school  i immediately recalled          at           high  a classic line inspector i  m here to sack one of your teachers  student welcome to bromwell high  i expect that many adults of my age think that bromwell high is far fetched  what a pity that it isn  t   \n",
      "\n",
      "\n",
      "[21025, 308, 6, 3, 1050, 207, 8, 2138, 32, 1, 171, 57, 15, 49, 81, 5785, 44, 382, 110, 140, 15, 5194, 60, 154, 9, 1, 4975, 5852, 475, 71, 5, 260, 12, 21025, 308, 13, 1978, 6, 74, 2395, 5, 613, 73, 6, 5194, 1, 24103, 5, 1983, 10166, 1, 5786, 1499, 36, 51, 66, 204, 145, 67, 1199, 5194, 19869, 1, 37442, 4, 1, 221, 883, 31, 2988, 71, 4, 1, 5787, 10, 686, 2, 67, 1499, 54, 10, 216, 1, 383, 9, 62, 3, 1406, 3686, 783, 5, 3483, 180, 1, 382, 10, 1212, 13583, 32, 308, 3, 349, 341, 2913, 10, 143, 127, 5, 7690, 30, 4, 129, 5194, 1406, 2326, 5, 21025, 308, 10, 528, 12, 109, 1448, 4, 60, 543, 102, 12, 21025, 308, 6, 227, 4146, 48, 3, 2211, 12, 8, 215, 23]\n"
     ]
    }
   ],
   "source": [
    "print (reviews[0])\n",
    "x = []\n",
    "for i in reviews[0].split():\n",
    "    x.append(vocab_to_int[i])\n",
    "print ('\\n')    \n",
    "print (x)    "
   ]
  },
  {
   "cell_type": "markdown",
   "metadata": {},
   "source": [
    "Encoding labels to 0(negative) or 1(positive)"
   ]
  },
  {
   "cell_type": "code",
   "execution_count": 43,
   "metadata": {
    "collapsed": true
   },
   "outputs": [],
   "source": [
    "labels = np.array([1 if each == 'positive' else 0 for each in labels])"
   ]
  },
  {
   "cell_type": "markdown",
   "metadata": {},
   "source": [
    "Counting number of zero length reviews"
   ]
  },
  {
   "cell_type": "code",
   "execution_count": 45,
   "metadata": {
    "collapsed": false
   },
   "outputs": [
    {
     "data": {
      "text/plain": [
       "25000"
      ]
     },
     "execution_count": 45,
     "metadata": {},
     "output_type": "execute_result"
    }
   ],
   "source": [
    "non_zero_idx = [ii for ii, review in enumerate(reviews_ints) if len(review) != 0]\n",
    "len(non_zero_idx)"
   ]
  },
  {
   "cell_type": "code",
   "execution_count": 28,
   "metadata": {
    "collapsed": false
   },
   "outputs": [
    {
     "name": "stdout",
     "output_type": "stream",
     "text": [
      "Zero-length reviews: 1\n",
      "Maximum review length: 2514\n"
     ]
    }
   ],
   "source": [
    "review_lens = Counter([len(x) for x in reviews_ints])\n",
    "print(\"Zero-length reviews: {}\".format(review_lens[0]))\n",
    "print(\"Maximum review length: {}\".format(max(review_lens)))"
   ]
  },
  {
   "cell_type": "code",
   "execution_count": 46,
   "metadata": {
    "collapsed": true
   },
   "outputs": [],
   "source": [
    "reviews_ints = [reviews_ints[ii] for ii in non_zero_idx]\n",
    "labels = np.array([labels[ii] for ii in non_zero_idx])"
   ]
  },
  {
   "cell_type": "code",
   "execution_count": 47,
   "metadata": {
    "collapsed": false
   },
   "outputs": [
    {
     "data": {
      "text/plain": [
       "25000"
      ]
     },
     "execution_count": 47,
     "metadata": {},
     "output_type": "execute_result"
    }
   ],
   "source": [
    "len(reviews_ints)"
   ]
  },
  {
   "cell_type": "code",
   "execution_count": 48,
   "metadata": {
    "collapsed": true
   },
   "outputs": [],
   "source": [
    "seq_length = 300\n",
    "features = np.zeros((len(reviews_ints), seq_length), dtype=int)\n",
    "for i, row in enumerate(np.array(reviews_ints)):\n",
    "    features[i, -len(row):] = np.array(row)[:seq_length]"
   ]
  },
  {
   "cell_type": "code",
   "execution_count": 49,
   "metadata": {
    "collapsed": false
   },
   "outputs": [
    {
     "data": {
      "text/plain": [
       "array([[    0,     0,     0,     0,     0,     0,     0,     0,     0,\n",
       "            0,     0,     0,     0,     0,     0,     0,     0,     0,\n",
       "            0,     0,     0,     0,     0,     0,     0,     0,     0,\n",
       "            0,     0,     0,     0,     0,     0,     0,     0,     0,\n",
       "            0,     0,     0,     0,     0,     0,     0,     0,     0,\n",
       "            0,     0,     0,     0,     0,     0,     0,     0,     0,\n",
       "            0,     0,     0,     0,     0,     0,     0,     0,     0,\n",
       "            0,     0,     0,     0,     0,     0,     0,     0,     0,\n",
       "            0,     0,     0,     0,     0,     0,     0,     0,     0,\n",
       "            0,     0,     0,     0,     0,     0,     0,     0,     0,\n",
       "            0,     0,     0,     0,     0,     0,     0,     0,     0,\n",
       "            0,     0,     0,     0,     0,     0,     0,     0,     0,\n",
       "            0,     0,     0,     0,     0,     0,     0,     0,     0,\n",
       "            0,     0,     0,     0,     0,     0,     0,     0,     0,\n",
       "            0,     0,     0,     0,     0,     0,     0,     0,     0,\n",
       "            0,     0,     0,     0,     0,     0,     0,     0,     0,\n",
       "            0,     0,     0,     0,     0,     0,     0,     0,     0,\n",
       "            0,     0,     0,     0,     0,     0,     0, 21025,   308,\n",
       "            6,     3,  1050,   207,     8,  2138,    32,     1,   171,\n",
       "           57,    15,    49,    81,  5785,    44,   382,   110,   140,\n",
       "           15,  5194,    60,   154,     9,     1,  4975,  5852,   475,\n",
       "           71,     5,   260,    12, 21025,   308,    13,  1978,     6,\n",
       "           74,  2395,     5,   613,    73,     6,  5194,     1, 24103,\n",
       "            5,  1983, 10166,     1,  5786,  1499,    36,    51,    66,\n",
       "          204,   145,    67,  1199,  5194, 19869,     1, 37442,     4,\n",
       "            1,   221,   883,    31,  2988,    71,     4,     1,  5787,\n",
       "           10,   686,     2,    67,  1499,    54,    10,   216,     1,\n",
       "          383,     9,    62,     3,  1406,  3686,   783,     5,  3483,\n",
       "          180,     1,   382,    10,  1212, 13583,    32,   308,     3,\n",
       "          349,   341,  2913,    10,   143,   127,     5,  7690,    30,\n",
       "            4,   129,  5194,  1406,  2326,     5, 21025,   308,    10,\n",
       "          528,    12,   109,  1448,     4,    60,   543,   102,    12,\n",
       "        21025,   308,     6,   227,  4146,    48,     3,  2211,    12,\n",
       "            8,   215,    23],\n",
       "       [    0,     0,     0,     0,     0,     0,     0,     0,     0,\n",
       "            0,     0,     0,     0,     0,     0,     0,     0,     0,\n",
       "            0,     0,     0,     0,     0,     0,     0,     0,     0,\n",
       "            0,     0,     0,     0,     0,     0,     0,     0,     0,\n",
       "            0,     0,     0,     0,     0,     0,     0,     0,     0,\n",
       "            0,     0,     0,     0,     0,     0,     0,     0,     0,\n",
       "            0,     0,     0,     0,     0,     0,     0,     0,     0,\n",
       "            0,     0,     0,     0,     0,     0,     0,     0,     0,\n",
       "            0,     0,     0,     0,     0,     0,     0,     0,     0,\n",
       "            0,     0,     0,     0,     0,     0,     0,     0,     0,\n",
       "            0,     0,     0,     0,     0,     0,     0,     0,     0,\n",
       "            0,     0,     0,     0,     0,     0,     0,     0,     0,\n",
       "            0,     0,     0,     0,     0,     0,     0,     0,     0,\n",
       "            0,     0,     0,     0,     0,     0,     0,     0,     0,\n",
       "            0,     0,     0,     0,     0,     0,     0,     0,     0,\n",
       "            0,     0,     0,     0,     0,     0,     0,     0,     0,\n",
       "            0,     0,     0,     0,     0,     0,     0,     0,     0,\n",
       "            0,     0,     0,     0,     0,     0,     0,     0,     0,\n",
       "            0,     0,     0,     0,     0,     0,     0,     0,     0,\n",
       "            0,     0,     0,     0,     0,     0,     0,     0,     0,\n",
       "            0,     0,     0,     0,     0,     0,    63,     4,     3,\n",
       "          125,    36,    47,  7472,  1395,    16,     3,  4181,   505,\n",
       "           45,    17,     3,   622,   134,    12,     6,     3,  1279,\n",
       "          457,     4,  1721,   207,     3, 10624,  7373,   300,     6,\n",
       "          667,    83,    35,  2116,  1086,  2989,    34,     1,   898,\n",
       "        46417,     4,     8,    13,  5096,   464,     8,  2656,  1721,\n",
       "            1,   221,    57,    17,    58,   794,  1297,   832,   228,\n",
       "            8,    43,    98,   123,  1469,    59,   147,    38,     1,\n",
       "          963,   142,    29,   667,   123,     1, 13584,   410,    61,\n",
       "           94,  1774,   306,   755,     5,     3,   819, 10396,    22,\n",
       "            3,  1724,   635,     8,    13,   128,    73,    21,   233,\n",
       "          102,    17,    49,    50,   617,    34,   682,    85, 28785,\n",
       "        28786,   682,   374,  3341, 11398,     2, 16371,  7946,    51,\n",
       "           29,   108,  3324]])"
      ]
     },
     "execution_count": 49,
     "metadata": {},
     "output_type": "execute_result"
    }
   ],
   "source": [
    "features[:2,:]"
   ]
  },
  {
   "cell_type": "code",
   "execution_count": 50,
   "metadata": {
    "collapsed": false
   },
   "outputs": [
    {
     "name": "stdout",
     "output_type": "stream",
     "text": [
      "Train set:(20000, 300) \n",
      "Validation set:(2500, 300) \n",
      "Test set: (2500, 300)\n"
     ]
    }
   ],
   "source": [
    "split_frac = 0.8\n",
    "split_idx = int(len(features)*0.8)\n",
    "train_x, val_x = features[:split_idx], features[split_idx:]\n",
    "train_y, val_y = labels[:split_idx], labels[split_idx:]\n",
    "\n",
    "test_idx = int(len(val_x)*0.5)\n",
    "val_x, test_x = val_x[:test_idx], val_x[test_idx:]\n",
    "val_y, test_y = val_y[:test_idx], val_y[test_idx:]\n",
    "\n",
    "print(\"Train set:{}\".format(train_x.shape), \n",
    "      \"\\nValidation set:{}\".format(val_x.shape),\n",
    "      \"\\nTest set: {}\".format(test_x.shape))"
   ]
  },
  {
   "cell_type": "code",
   "execution_count": 51,
   "metadata": {
    "collapsed": true
   },
   "outputs": [],
   "source": [
    "lstm_size = 256\n",
    "lstm_layers = 2\n",
    "batch_size = 128\n",
    "learning_rate = 0.001\n",
    "n_words = len(vocab_to_int) + 1\n",
    "embed_size = 300"
   ]
  },
  {
   "cell_type": "markdown",
   "metadata": {},
   "source": [
    "## Buidling the RNN Model"
   ]
  },
  {
   "cell_type": "markdown",
   "metadata": {},
   "source": [
    "Defining the placeholder for feeding the input data"
   ]
  },
  {
   "cell_type": "code",
   "execution_count": 52,
   "metadata": {
    "collapsed": true
   },
   "outputs": [],
   "source": [
    "def placeholders():\n",
    "    inputs = tf.placeholder(tf.int32, shape=(None, None), name='inputs')\n",
    "    targets = tf.placeholder(tf.int32, shape=(None), name='targets')\n",
    "    keep_prob = tf.placeholder(tf.float32, name= 'keep_prob')\n",
    "    \n",
    "    return inputs, targets, keep_prob"
   ]
  },
  {
   "cell_type": "markdown",
   "metadata": {},
   "source": [
    "Building the embedding lookup matrix to get the embedded vectors to pass to the LSTM cell."
   ]
  },
  {
   "cell_type": "code",
   "execution_count": 53,
   "metadata": {
    "collapsed": true
   },
   "outputs": [],
   "source": [
    "def create_embedding(n_words, embed_size, inputs):\n",
    "    embedding_matrix = tf.Variable(tf.random_uniform((n_words, embed_size), -1, 1))\n",
    "    embed = tf.nn.embedding_lookup(embedding_matrix, inputs)\n",
    "    \n",
    "    return embedding_matrix, embed"
   ]
  },
  {
   "cell_type": "markdown",
   "metadata": {},
   "source": [
    "Creating LSTM cells for our RNN"
   ]
  },
  {
   "cell_type": "code",
   "execution_count": 54,
   "metadata": {
    "collapsed": true
   },
   "outputs": [],
   "source": [
    "def lstm_cell(lstm_size, lstm_layers, batch_size, keep_prob):\n",
    "    \n",
    "    def build_cell(lstm_size, keep_prob):\n",
    "        lstm = tf.contrib.rnn.BasicLSTMCell(lstm_size)\n",
    "        drop = tf.contrib.rnn.DropoutWrapper(lstm, output_keep_prob=keep_prob)\n",
    "        return drop\n",
    "    \n",
    "    cell = tf.contrib.rnn.MultiRNNCell([build_cell(lstm_size, keep_prob) for _ in range(lstm_layers)])\n",
    "    state = cell.zero_state(batch_size, tf.float32)\n",
    "    \n",
    "    return cell, state"
   ]
  },
  {
   "cell_type": "markdown",
   "metadata": {},
   "source": [
    "Function for returning batches from our data"
   ]
  },
  {
   "cell_type": "code",
   "execution_count": 55,
   "metadata": {
    "collapsed": true
   },
   "outputs": [],
   "source": [
    "def generate_batches(x, y, batch_size=100):\n",
    "    \n",
    "    n_batches = len(x)//batch_size\n",
    "    x, y = x[:n_batches*batch_size], y[:n_batches*batch_size]\n",
    "    for ii in range(0, len(x), batch_size):\n",
    "        yield x[ii:ii+batch_size], y[ii:ii+batch_size]"
   ]
  },
  {
   "cell_type": "markdown",
   "metadata": {},
   "source": [
    "Setting up all variables and placeholders"
   ]
  },
  {
   "cell_type": "code",
   "execution_count": 56,
   "metadata": {
    "collapsed": false
   },
   "outputs": [],
   "source": [
    "tf.reset_default_graph()\n",
    "\n",
    "## Getting input tensors\n",
    "inputs, targets, keep_prob = placeholders()\n",
    "\n",
    "embedding_matrix, embed = create_embedding(n_words, embed_size, inputs)\n",
    "\n",
    "## Creating LSTM Cell\n",
    "cell, initial_state = lstm_cell(lstm_size, lstm_layers, batch_size, keep_prob)\n",
    "\n",
    "## Collect outputs(RNN Forward Pass)\n",
    "outputs, final_state = tf.nn.dynamic_rnn(cell, embed, initial_state = initial_state)\n",
    "\n",
    "## Predictions\n",
    "predictions = tf.contrib.layers.fully_connected(outputs[:, -1], 1, activation_fn = tf.sigmoid)\n",
    "\n",
    "## Cost - Mean Squared Error\n",
    "cost = tf.losses.mean_squared_error(targets, predictions)\n",
    "\n",
    "## Gradient Descent Step - Backpropagation\n",
    "optimizer = tf.train.AdamOptimizer(learning_rate).minimize(cost)\n",
    "\n",
    "## Calculating accuracy and correct predictions\n",
    "correct_pred = tf.equal(tf.cast(tf.round(predictions), tf.int32), targets)\n",
    "accuracy = tf.reduce_mean(tf.cast(correct_pred, tf.float32))"
   ]
  },
  {
   "cell_type": "markdown",
   "metadata": {},
   "source": [
    "Training the RNN"
   ]
  },
  {
   "cell_type": "code",
   "execution_count": 60,
   "metadata": {
    "collapsed": false
   },
   "outputs": [
    {
     "ename": "KeyboardInterrupt",
     "evalue": "",
     "output_type": "error",
     "traceback": [
      "\u001b[0;31m---------------------------------------------------------------------------\u001b[0m",
      "\u001b[0;31mKeyboardInterrupt\u001b[0m                         Traceback (most recent call last)",
      "\u001b[0;32m<ipython-input-60-bb01c8790dab>\u001b[0m in \u001b[0;36m<module>\u001b[0;34m()\u001b[0m\n\u001b[1;32m     13\u001b[0m                     \u001b[0mkeep_prob\u001b[0m\u001b[0;34m:\u001b[0m \u001b[0;36m0.7\u001b[0m\u001b[0;34m,\u001b[0m\u001b[0;34m\u001b[0m\u001b[0m\n\u001b[1;32m     14\u001b[0m                     initial_state: state}\n\u001b[0;32m---> 15\u001b[0;31m             \u001b[0mloss\u001b[0m\u001b[0;34m,\u001b[0m \u001b[0mstate\u001b[0m\u001b[0;34m,\u001b[0m \u001b[0m_\u001b[0m \u001b[0;34m=\u001b[0m \u001b[0msess\u001b[0m\u001b[0;34m.\u001b[0m\u001b[0mrun\u001b[0m\u001b[0;34m(\u001b[0m\u001b[0;34m[\u001b[0m\u001b[0mcost\u001b[0m\u001b[0;34m,\u001b[0m \u001b[0mfinal_state\u001b[0m\u001b[0;34m,\u001b[0m \u001b[0moptimizer\u001b[0m\u001b[0;34m]\u001b[0m\u001b[0;34m,\u001b[0m \u001b[0mfeed_dict\u001b[0m\u001b[0;34m=\u001b[0m\u001b[0mfeed\u001b[0m\u001b[0;34m)\u001b[0m\u001b[0;34m\u001b[0m\u001b[0m\n\u001b[0m\u001b[1;32m     16\u001b[0m \u001b[0;34m\u001b[0m\u001b[0m\n\u001b[1;32m     17\u001b[0m             \u001b[0;32mif\u001b[0m \u001b[0miteration\u001b[0m\u001b[0;34m%\u001b[0m\u001b[0;36m5\u001b[0m\u001b[0;34m==\u001b[0m\u001b[0;36m0\u001b[0m\u001b[0;34m:\u001b[0m\u001b[0;34m\u001b[0m\u001b[0m\n",
      "\u001b[0;32m/anaconda/lib/python3.6/site-packages/tensorflow/python/client/session.py\u001b[0m in \u001b[0;36mrun\u001b[0;34m(self, fetches, feed_dict, options, run_metadata)\u001b[0m\n\u001b[1;32m    776\u001b[0m     \u001b[0;32mtry\u001b[0m\u001b[0;34m:\u001b[0m\u001b[0;34m\u001b[0m\u001b[0m\n\u001b[1;32m    777\u001b[0m       result = self._run(None, fetches, feed_dict, options_ptr,\n\u001b[0;32m--> 778\u001b[0;31m                          run_metadata_ptr)\n\u001b[0m\u001b[1;32m    779\u001b[0m       \u001b[0;32mif\u001b[0m \u001b[0mrun_metadata\u001b[0m\u001b[0;34m:\u001b[0m\u001b[0;34m\u001b[0m\u001b[0m\n\u001b[1;32m    780\u001b[0m         \u001b[0mproto_data\u001b[0m \u001b[0;34m=\u001b[0m \u001b[0mtf_session\u001b[0m\u001b[0;34m.\u001b[0m\u001b[0mTF_GetBuffer\u001b[0m\u001b[0;34m(\u001b[0m\u001b[0mrun_metadata_ptr\u001b[0m\u001b[0;34m)\u001b[0m\u001b[0;34m\u001b[0m\u001b[0m\n",
      "\u001b[0;32m/anaconda/lib/python3.6/site-packages/tensorflow/python/client/session.py\u001b[0m in \u001b[0;36m_run\u001b[0;34m(self, handle, fetches, feed_dict, options, run_metadata)\u001b[0m\n\u001b[1;32m    980\u001b[0m     \u001b[0;32mif\u001b[0m \u001b[0mfinal_fetches\u001b[0m \u001b[0;32mor\u001b[0m \u001b[0mfinal_targets\u001b[0m\u001b[0;34m:\u001b[0m\u001b[0;34m\u001b[0m\u001b[0m\n\u001b[1;32m    981\u001b[0m       results = self._do_run(handle, final_targets, final_fetches,\n\u001b[0;32m--> 982\u001b[0;31m                              feed_dict_string, options, run_metadata)\n\u001b[0m\u001b[1;32m    983\u001b[0m     \u001b[0;32melse\u001b[0m\u001b[0;34m:\u001b[0m\u001b[0;34m\u001b[0m\u001b[0m\n\u001b[1;32m    984\u001b[0m       \u001b[0mresults\u001b[0m \u001b[0;34m=\u001b[0m \u001b[0;34m[\u001b[0m\u001b[0;34m]\u001b[0m\u001b[0;34m\u001b[0m\u001b[0m\n",
      "\u001b[0;32m/anaconda/lib/python3.6/site-packages/tensorflow/python/client/session.py\u001b[0m in \u001b[0;36m_do_run\u001b[0;34m(self, handle, target_list, fetch_list, feed_dict, options, run_metadata)\u001b[0m\n\u001b[1;32m   1030\u001b[0m     \u001b[0;32mif\u001b[0m \u001b[0mhandle\u001b[0m \u001b[0;32mis\u001b[0m \u001b[0;32mNone\u001b[0m\u001b[0;34m:\u001b[0m\u001b[0;34m\u001b[0m\u001b[0m\n\u001b[1;32m   1031\u001b[0m       return self._do_call(_run_fn, self._session, feed_dict, fetch_list,\n\u001b[0;32m-> 1032\u001b[0;31m                            target_list, options, run_metadata)\n\u001b[0m\u001b[1;32m   1033\u001b[0m     \u001b[0;32melse\u001b[0m\u001b[0;34m:\u001b[0m\u001b[0;34m\u001b[0m\u001b[0m\n\u001b[1;32m   1034\u001b[0m       return self._do_call(_prun_fn, self._session, handle, feed_dict,\n",
      "\u001b[0;32m/anaconda/lib/python3.6/site-packages/tensorflow/python/client/session.py\u001b[0m in \u001b[0;36m_do_call\u001b[0;34m(self, fn, *args)\u001b[0m\n\u001b[1;32m   1037\u001b[0m   \u001b[0;32mdef\u001b[0m \u001b[0m_do_call\u001b[0m\u001b[0;34m(\u001b[0m\u001b[0mself\u001b[0m\u001b[0;34m,\u001b[0m \u001b[0mfn\u001b[0m\u001b[0;34m,\u001b[0m \u001b[0;34m*\u001b[0m\u001b[0margs\u001b[0m\u001b[0;34m)\u001b[0m\u001b[0;34m:\u001b[0m\u001b[0;34m\u001b[0m\u001b[0m\n\u001b[1;32m   1038\u001b[0m     \u001b[0;32mtry\u001b[0m\u001b[0;34m:\u001b[0m\u001b[0;34m\u001b[0m\u001b[0m\n\u001b[0;32m-> 1039\u001b[0;31m       \u001b[0;32mreturn\u001b[0m \u001b[0mfn\u001b[0m\u001b[0;34m(\u001b[0m\u001b[0;34m*\u001b[0m\u001b[0margs\u001b[0m\u001b[0;34m)\u001b[0m\u001b[0;34m\u001b[0m\u001b[0m\n\u001b[0m\u001b[1;32m   1040\u001b[0m     \u001b[0;32mexcept\u001b[0m \u001b[0merrors\u001b[0m\u001b[0;34m.\u001b[0m\u001b[0mOpError\u001b[0m \u001b[0;32mas\u001b[0m \u001b[0me\u001b[0m\u001b[0;34m:\u001b[0m\u001b[0;34m\u001b[0m\u001b[0m\n\u001b[1;32m   1041\u001b[0m       \u001b[0mmessage\u001b[0m \u001b[0;34m=\u001b[0m \u001b[0mcompat\u001b[0m\u001b[0;34m.\u001b[0m\u001b[0mas_text\u001b[0m\u001b[0;34m(\u001b[0m\u001b[0me\u001b[0m\u001b[0;34m.\u001b[0m\u001b[0mmessage\u001b[0m\u001b[0;34m)\u001b[0m\u001b[0;34m\u001b[0m\u001b[0m\n",
      "\u001b[0;32m/anaconda/lib/python3.6/site-packages/tensorflow/python/client/session.py\u001b[0m in \u001b[0;36m_run_fn\u001b[0;34m(session, feed_dict, fetch_list, target_list, options, run_metadata)\u001b[0m\n\u001b[1;32m   1019\u001b[0m         return tf_session.TF_Run(session, options,\n\u001b[1;32m   1020\u001b[0m                                  \u001b[0mfeed_dict\u001b[0m\u001b[0;34m,\u001b[0m \u001b[0mfetch_list\u001b[0m\u001b[0;34m,\u001b[0m \u001b[0mtarget_list\u001b[0m\u001b[0;34m,\u001b[0m\u001b[0;34m\u001b[0m\u001b[0m\n\u001b[0;32m-> 1021\u001b[0;31m                                  status, run_metadata)\n\u001b[0m\u001b[1;32m   1022\u001b[0m \u001b[0;34m\u001b[0m\u001b[0m\n\u001b[1;32m   1023\u001b[0m     \u001b[0;32mdef\u001b[0m \u001b[0m_prun_fn\u001b[0m\u001b[0;34m(\u001b[0m\u001b[0msession\u001b[0m\u001b[0;34m,\u001b[0m \u001b[0mhandle\u001b[0m\u001b[0;34m,\u001b[0m \u001b[0mfeed_dict\u001b[0m\u001b[0;34m,\u001b[0m \u001b[0mfetch_list\u001b[0m\u001b[0;34m)\u001b[0m\u001b[0;34m:\u001b[0m\u001b[0;34m\u001b[0m\u001b[0m\n",
      "\u001b[0;31mKeyboardInterrupt\u001b[0m: "
     ]
    }
   ],
   "source": [
    "epochs = 1\n",
    "\n",
    "saver = tf.train.Saver()\n",
    "with tf.Session() as sess:\n",
    "    sess.run(tf.global_variables_initializer())\n",
    "    iteration = 1\n",
    "    for e in range(epochs):\n",
    "        state = sess.run(initial_state)\n",
    "        \n",
    "        for ii, (x, y) in enumerate(generate_batches(train_x, train_y, batch_size), 1):\n",
    "            feed = {inputs: x,\n",
    "                    targets: y,\n",
    "                    keep_prob: 0.7,\n",
    "                    initial_state: state}\n",
    "            loss, state, _ = sess.run([cost, final_state, optimizer], feed_dict=feed)\n",
    "            \n",
    "            if iteration%5==0:\n",
    "                print(\"Epoch: {}/{}\".format(e, epochs),\n",
    "                      \"Iteration: {}\".format(iteration),\n",
    "                      \"Train loss: {:.3f}\".format(loss))\n",
    "\n",
    "            if iteration%25==0:\n",
    "                val_acc = []\n",
    "                val_state = sess.run(cell.zero_state(batch_size, tf.float32))\n",
    "                for x, y in get_batches(val_x, val_y, batch_size):\n",
    "                    feed = {inputs: x,\n",
    "                            targets: y,\n",
    "                            keep_prob: 1,\n",
    "                            initial_state: val_state}\n",
    "                    batch_acc, val_state = sess.run([accuracy, final_state], feed_dict=feed)\n",
    "                    val_acc.append(batch_acc)\n",
    "                print(\"Val acc: {:.3f}\".format(np.mean(val_acc)))\n",
    "            iteration +=1\n",
    "    saver.save(sess, \"checkpoints/sentiment.ckpt\")"
   ]
  },
  {
   "cell_type": "markdown",
   "metadata": {},
   "source": [
    "Evaluating Accuracy on Test set"
   ]
  },
  {
   "cell_type": "code",
   "execution_count": 61,
   "metadata": {
    "collapsed": false
   },
   "outputs": [
    {
     "name": "stdout",
     "output_type": "stream",
     "text": [
      "INFO:tensorflow:Restoring parameters from None\n"
     ]
    },
    {
     "ename": "SystemError",
     "evalue": "<built-in function TF_Run> returned a result with an error set",
     "output_type": "error",
     "traceback": [
      "\u001b[0;31m---------------------------------------------------------------------------\u001b[0m",
      "\u001b[0;31mTypeError\u001b[0m                                 Traceback (most recent call last)",
      "\u001b[0;31mTypeError\u001b[0m: expected bytes, NoneType found",
      "\nThe above exception was the direct cause of the following exception:\n",
      "\u001b[0;31mSystemError\u001b[0m                               Traceback (most recent call last)",
      "\u001b[0;32m<ipython-input-61-6de23c07e96b>\u001b[0m in \u001b[0;36m<module>\u001b[0;34m()\u001b[0m\n\u001b[1;32m      1\u001b[0m \u001b[0mtest_acc\u001b[0m \u001b[0;34m=\u001b[0m \u001b[0;34m[\u001b[0m\u001b[0;34m]\u001b[0m\u001b[0;34m\u001b[0m\u001b[0m\n\u001b[1;32m      2\u001b[0m \u001b[0;32mwith\u001b[0m \u001b[0mtf\u001b[0m\u001b[0;34m.\u001b[0m\u001b[0mSession\u001b[0m\u001b[0;34m(\u001b[0m\u001b[0;34m)\u001b[0m \u001b[0;32mas\u001b[0m \u001b[0msess\u001b[0m\u001b[0;34m:\u001b[0m\u001b[0;34m\u001b[0m\u001b[0m\n\u001b[0;32m----> 3\u001b[0;31m     \u001b[0msaver\u001b[0m\u001b[0;34m.\u001b[0m\u001b[0mrestore\u001b[0m\u001b[0;34m(\u001b[0m\u001b[0msess\u001b[0m\u001b[0;34m,\u001b[0m \u001b[0mtf\u001b[0m\u001b[0;34m.\u001b[0m\u001b[0mtrain\u001b[0m\u001b[0;34m.\u001b[0m\u001b[0mlatest_checkpoint\u001b[0m\u001b[0;34m(\u001b[0m\u001b[0;34m'checkpoints'\u001b[0m\u001b[0;34m)\u001b[0m\u001b[0;34m)\u001b[0m\u001b[0;34m\u001b[0m\u001b[0m\n\u001b[0m\u001b[1;32m      4\u001b[0m     \u001b[0mtest_state\u001b[0m \u001b[0;34m=\u001b[0m \u001b[0msess\u001b[0m\u001b[0;34m.\u001b[0m\u001b[0mrun\u001b[0m\u001b[0;34m(\u001b[0m\u001b[0mcell\u001b[0m\u001b[0;34m.\u001b[0m\u001b[0mzero_state\u001b[0m\u001b[0;34m(\u001b[0m\u001b[0mbatch_size\u001b[0m\u001b[0;34m,\u001b[0m \u001b[0mtf\u001b[0m\u001b[0;34m.\u001b[0m\u001b[0mfloat32\u001b[0m\u001b[0;34m)\u001b[0m\u001b[0;34m)\u001b[0m\u001b[0;34m\u001b[0m\u001b[0m\n\u001b[1;32m      5\u001b[0m     \u001b[0;32mfor\u001b[0m \u001b[0mii\u001b[0m\u001b[0;34m,\u001b[0m \u001b[0;34m(\u001b[0m\u001b[0mx\u001b[0m\u001b[0;34m,\u001b[0m \u001b[0my\u001b[0m\u001b[0;34m)\u001b[0m \u001b[0;32min\u001b[0m \u001b[0menumerate\u001b[0m\u001b[0;34m(\u001b[0m\u001b[0mget_batches\u001b[0m\u001b[0;34m(\u001b[0m\u001b[0mtest_x\u001b[0m\u001b[0;34m,\u001b[0m \u001b[0mtest_y\u001b[0m\u001b[0;34m,\u001b[0m \u001b[0mbatch_size\u001b[0m\u001b[0;34m)\u001b[0m\u001b[0;34m,\u001b[0m \u001b[0;36m1\u001b[0m\u001b[0;34m)\u001b[0m\u001b[0;34m:\u001b[0m\u001b[0;34m\u001b[0m\u001b[0m\n",
      "\u001b[0;32m/anaconda/lib/python3.6/site-packages/tensorflow/python/training/saver.py\u001b[0m in \u001b[0;36mrestore\u001b[0;34m(self, sess, save_path)\u001b[0m\n\u001b[1;32m   1455\u001b[0m     \u001b[0mlogging\u001b[0m\u001b[0;34m.\u001b[0m\u001b[0minfo\u001b[0m\u001b[0;34m(\u001b[0m\u001b[0;34m\"Restoring parameters from %s\"\u001b[0m\u001b[0;34m,\u001b[0m \u001b[0msave_path\u001b[0m\u001b[0;34m)\u001b[0m\u001b[0;34m\u001b[0m\u001b[0m\n\u001b[1;32m   1456\u001b[0m     sess.run(self.saver_def.restore_op_name,\n\u001b[0;32m-> 1457\u001b[0;31m              {self.saver_def.filename_tensor_name: save_path})\n\u001b[0m\u001b[1;32m   1458\u001b[0m \u001b[0;34m\u001b[0m\u001b[0m\n\u001b[1;32m   1459\u001b[0m   \u001b[0;34m@\u001b[0m\u001b[0mstaticmethod\u001b[0m\u001b[0;34m\u001b[0m\u001b[0m\n",
      "\u001b[0;32m/anaconda/lib/python3.6/site-packages/tensorflow/python/client/session.py\u001b[0m in \u001b[0;36mrun\u001b[0;34m(self, fetches, feed_dict, options, run_metadata)\u001b[0m\n\u001b[1;32m    776\u001b[0m     \u001b[0;32mtry\u001b[0m\u001b[0;34m:\u001b[0m\u001b[0;34m\u001b[0m\u001b[0m\n\u001b[1;32m    777\u001b[0m       result = self._run(None, fetches, feed_dict, options_ptr,\n\u001b[0;32m--> 778\u001b[0;31m                          run_metadata_ptr)\n\u001b[0m\u001b[1;32m    779\u001b[0m       \u001b[0;32mif\u001b[0m \u001b[0mrun_metadata\u001b[0m\u001b[0;34m:\u001b[0m\u001b[0;34m\u001b[0m\u001b[0m\n\u001b[1;32m    780\u001b[0m         \u001b[0mproto_data\u001b[0m \u001b[0;34m=\u001b[0m \u001b[0mtf_session\u001b[0m\u001b[0;34m.\u001b[0m\u001b[0mTF_GetBuffer\u001b[0m\u001b[0;34m(\u001b[0m\u001b[0mrun_metadata_ptr\u001b[0m\u001b[0;34m)\u001b[0m\u001b[0;34m\u001b[0m\u001b[0m\n",
      "\u001b[0;32m/anaconda/lib/python3.6/site-packages/tensorflow/python/client/session.py\u001b[0m in \u001b[0;36m_run\u001b[0;34m(self, handle, fetches, feed_dict, options, run_metadata)\u001b[0m\n\u001b[1;32m    980\u001b[0m     \u001b[0;32mif\u001b[0m \u001b[0mfinal_fetches\u001b[0m \u001b[0;32mor\u001b[0m \u001b[0mfinal_targets\u001b[0m\u001b[0;34m:\u001b[0m\u001b[0;34m\u001b[0m\u001b[0m\n\u001b[1;32m    981\u001b[0m       results = self._do_run(handle, final_targets, final_fetches,\n\u001b[0;32m--> 982\u001b[0;31m                              feed_dict_string, options, run_metadata)\n\u001b[0m\u001b[1;32m    983\u001b[0m     \u001b[0;32melse\u001b[0m\u001b[0;34m:\u001b[0m\u001b[0;34m\u001b[0m\u001b[0m\n\u001b[1;32m    984\u001b[0m       \u001b[0mresults\u001b[0m \u001b[0;34m=\u001b[0m \u001b[0;34m[\u001b[0m\u001b[0;34m]\u001b[0m\u001b[0;34m\u001b[0m\u001b[0m\n",
      "\u001b[0;32m/anaconda/lib/python3.6/site-packages/tensorflow/python/client/session.py\u001b[0m in \u001b[0;36m_do_run\u001b[0;34m(self, handle, target_list, fetch_list, feed_dict, options, run_metadata)\u001b[0m\n\u001b[1;32m   1030\u001b[0m     \u001b[0;32mif\u001b[0m \u001b[0mhandle\u001b[0m \u001b[0;32mis\u001b[0m \u001b[0;32mNone\u001b[0m\u001b[0;34m:\u001b[0m\u001b[0;34m\u001b[0m\u001b[0m\n\u001b[1;32m   1031\u001b[0m       return self._do_call(_run_fn, self._session, feed_dict, fetch_list,\n\u001b[0;32m-> 1032\u001b[0;31m                            target_list, options, run_metadata)\n\u001b[0m\u001b[1;32m   1033\u001b[0m     \u001b[0;32melse\u001b[0m\u001b[0;34m:\u001b[0m\u001b[0;34m\u001b[0m\u001b[0m\n\u001b[1;32m   1034\u001b[0m       return self._do_call(_prun_fn, self._session, handle, feed_dict,\n",
      "\u001b[0;32m/anaconda/lib/python3.6/site-packages/tensorflow/python/client/session.py\u001b[0m in \u001b[0;36m_do_call\u001b[0;34m(self, fn, *args)\u001b[0m\n\u001b[1;32m   1037\u001b[0m   \u001b[0;32mdef\u001b[0m \u001b[0m_do_call\u001b[0m\u001b[0;34m(\u001b[0m\u001b[0mself\u001b[0m\u001b[0;34m,\u001b[0m \u001b[0mfn\u001b[0m\u001b[0;34m,\u001b[0m \u001b[0;34m*\u001b[0m\u001b[0margs\u001b[0m\u001b[0;34m)\u001b[0m\u001b[0;34m:\u001b[0m\u001b[0;34m\u001b[0m\u001b[0m\n\u001b[1;32m   1038\u001b[0m     \u001b[0;32mtry\u001b[0m\u001b[0;34m:\u001b[0m\u001b[0;34m\u001b[0m\u001b[0m\n\u001b[0;32m-> 1039\u001b[0;31m       \u001b[0;32mreturn\u001b[0m \u001b[0mfn\u001b[0m\u001b[0;34m(\u001b[0m\u001b[0;34m*\u001b[0m\u001b[0margs\u001b[0m\u001b[0;34m)\u001b[0m\u001b[0;34m\u001b[0m\u001b[0m\n\u001b[0m\u001b[1;32m   1040\u001b[0m     \u001b[0;32mexcept\u001b[0m \u001b[0merrors\u001b[0m\u001b[0;34m.\u001b[0m\u001b[0mOpError\u001b[0m \u001b[0;32mas\u001b[0m \u001b[0me\u001b[0m\u001b[0;34m:\u001b[0m\u001b[0;34m\u001b[0m\u001b[0m\n\u001b[1;32m   1041\u001b[0m       \u001b[0mmessage\u001b[0m \u001b[0;34m=\u001b[0m \u001b[0mcompat\u001b[0m\u001b[0;34m.\u001b[0m\u001b[0mas_text\u001b[0m\u001b[0;34m(\u001b[0m\u001b[0me\u001b[0m\u001b[0;34m.\u001b[0m\u001b[0mmessage\u001b[0m\u001b[0;34m)\u001b[0m\u001b[0;34m\u001b[0m\u001b[0m\n",
      "\u001b[0;32m/anaconda/lib/python3.6/site-packages/tensorflow/python/client/session.py\u001b[0m in \u001b[0;36m_run_fn\u001b[0;34m(session, feed_dict, fetch_list, target_list, options, run_metadata)\u001b[0m\n\u001b[1;32m   1019\u001b[0m         return tf_session.TF_Run(session, options,\n\u001b[1;32m   1020\u001b[0m                                  \u001b[0mfeed_dict\u001b[0m\u001b[0;34m,\u001b[0m \u001b[0mfetch_list\u001b[0m\u001b[0;34m,\u001b[0m \u001b[0mtarget_list\u001b[0m\u001b[0;34m,\u001b[0m\u001b[0;34m\u001b[0m\u001b[0m\n\u001b[0;32m-> 1021\u001b[0;31m                                  status, run_metadata)\n\u001b[0m\u001b[1;32m   1022\u001b[0m \u001b[0;34m\u001b[0m\u001b[0m\n\u001b[1;32m   1023\u001b[0m     \u001b[0;32mdef\u001b[0m \u001b[0m_prun_fn\u001b[0m\u001b[0;34m(\u001b[0m\u001b[0msession\u001b[0m\u001b[0;34m,\u001b[0m \u001b[0mhandle\u001b[0m\u001b[0;34m,\u001b[0m \u001b[0mfeed_dict\u001b[0m\u001b[0;34m,\u001b[0m \u001b[0mfetch_list\u001b[0m\u001b[0;34m)\u001b[0m\u001b[0;34m:\u001b[0m\u001b[0;34m\u001b[0m\u001b[0m\n",
      "\u001b[0;31mSystemError\u001b[0m: <built-in function TF_Run> returned a result with an error set"
     ]
    }
   ],
   "source": [
    "test_acc = []\n",
    "with tf.Session() as sess:\n",
    "    saver.restore(sess, tf.train.latest_checkpoint('checkpoints'))\n",
    "    test_state = sess.run(cell.zero_state(batch_size, tf.float32))\n",
    "    for ii, (x, y) in enumerate(get_batches(test_x, test_y, batch_size), 1):\n",
    "        feed = {inputs_: x,\n",
    "                labels_: y[:, None],\n",
    "                keep_prob: 1,\n",
    "                initial_state: test_state}\n",
    "        batch_acc, test_state = sess.run([accuracy, final_state], feed_dict=feed)\n",
    "        test_acc.append(batch_acc)\n",
    "    print(\"Test accuracy: {:.3f}\".format(np.mean(test_acc)))"
   ]
  },
  {
   "cell_type": "code",
   "execution_count": null,
   "metadata": {
    "collapsed": true
   },
   "outputs": [],
   "source": []
  }
 ],
 "metadata": {
  "kernelspec": {
   "display_name": "Python 3",
   "language": "python",
   "name": "python3"
  },
  "language_info": {
   "codemirror_mode": {
    "name": "ipython",
    "version": 3
   },
   "file_extension": ".py",
   "mimetype": "text/x-python",
   "name": "python",
   "nbconvert_exporter": "python",
   "pygments_lexer": "ipython3",
   "version": "3.6.0"
  }
 },
 "nbformat": 4,
 "nbformat_minor": 2
}

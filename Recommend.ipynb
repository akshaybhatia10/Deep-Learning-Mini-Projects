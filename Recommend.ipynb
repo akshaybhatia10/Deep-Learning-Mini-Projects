{
 "cells": [
  {
   "cell_type": "markdown",
   "metadata": {},
   "source": [
    "## Movie Recommendation System using Boltzmann Machine"
   ]
  },
  {
   "cell_type": "code",
   "execution_count": 1,
   "metadata": {
    "collapsed": false
   },
   "outputs": [],
   "source": [
    "import numpy as np\n",
    "import pandas as pd\n",
    "import torch\n",
    "import torch.nn as nn\n",
    "from torch.autograd import Variable\n",
    "import torch.utils.data\n",
    "import torch.optim as optim"
   ]
  },
  {
   "cell_type": "code",
   "execution_count": 2,
   "metadata": {
    "collapsed": false
   },
   "outputs": [],
   "source": [
    "movie = pd.read_csv('data/movies.dat', sep = '::', engine = 'python', header = None, encoding = 'latin-1')\n",
    "rating = pd.read_csv('data/ratings.dat', sep = '::', engine = 'python', header = None, encoding = 'latin-1')\n",
    "user = pd.read_csv('data/users.dat', sep = '::', engine = 'python', header = None, encoding = 'latin-1')"
   ]
  },
  {
   "cell_type": "code",
   "execution_count": 3,
   "metadata": {
    "collapsed": false
   },
   "outputs": [
    {
     "name": "stdout",
     "output_type": "stream",
     "text": [
      "movie data shape(3883, 3)\n",
      "rating data shape(1000209, 4)\n",
      "user data shape(6040, 5)\n"
     ]
    }
   ],
   "source": [
    "print (\"movie data shape\" + str(movie.shape))\n",
    "print (\"rating data shape\" + str(rating.shape))\n",
    "print (\"user data shape\" + str(user.shape))"
   ]
  },
  {
   "cell_type": "code",
   "execution_count": 4,
   "metadata": {
    "collapsed": false
   },
   "outputs": [
    {
     "data": {
      "text/html": [
       "<div>\n",
       "<table border=\"1\" class=\"dataframe\">\n",
       "  <thead>\n",
       "    <tr style=\"text-align: right;\">\n",
       "      <th></th>\n",
       "      <th>0</th>\n",
       "      <th>1</th>\n",
       "      <th>2</th>\n",
       "    </tr>\n",
       "  </thead>\n",
       "  <tbody>\n",
       "    <tr>\n",
       "      <th>0</th>\n",
       "      <td>1</td>\n",
       "      <td>Toy Story (1995)</td>\n",
       "      <td>Animation|Children's|Comedy</td>\n",
       "    </tr>\n",
       "    <tr>\n",
       "      <th>1</th>\n",
       "      <td>2</td>\n",
       "      <td>Jumanji (1995)</td>\n",
       "      <td>Adventure|Children's|Fantasy</td>\n",
       "    </tr>\n",
       "    <tr>\n",
       "      <th>2</th>\n",
       "      <td>3</td>\n",
       "      <td>Grumpier Old Men (1995)</td>\n",
       "      <td>Comedy|Romance</td>\n",
       "    </tr>\n",
       "    <tr>\n",
       "      <th>3</th>\n",
       "      <td>4</td>\n",
       "      <td>Waiting to Exhale (1995)</td>\n",
       "      <td>Comedy|Drama</td>\n",
       "    </tr>\n",
       "    <tr>\n",
       "      <th>4</th>\n",
       "      <td>5</td>\n",
       "      <td>Father of the Bride Part II (1995)</td>\n",
       "      <td>Comedy</td>\n",
       "    </tr>\n",
       "  </tbody>\n",
       "</table>\n",
       "</div>"
      ],
      "text/plain": [
       "   0                                   1                             2\n",
       "0  1                    Toy Story (1995)   Animation|Children's|Comedy\n",
       "1  2                      Jumanji (1995)  Adventure|Children's|Fantasy\n",
       "2  3             Grumpier Old Men (1995)                Comedy|Romance\n",
       "3  4            Waiting to Exhale (1995)                  Comedy|Drama\n",
       "4  5  Father of the Bride Part II (1995)                        Comedy"
      ]
     },
     "execution_count": 4,
     "metadata": {},
     "output_type": "execute_result"
    }
   ],
   "source": [
    "movie.head(5)"
   ]
  },
  {
   "cell_type": "code",
   "execution_count": 5,
   "metadata": {
    "collapsed": false
   },
   "outputs": [
    {
     "data": {
      "text/html": [
       "<div>\n",
       "<table border=\"1\" class=\"dataframe\">\n",
       "  <thead>\n",
       "    <tr style=\"text-align: right;\">\n",
       "      <th></th>\n",
       "      <th>0</th>\n",
       "      <th>1</th>\n",
       "      <th>2</th>\n",
       "      <th>3</th>\n",
       "    </tr>\n",
       "  </thead>\n",
       "  <tbody>\n",
       "    <tr>\n",
       "      <th>0</th>\n",
       "      <td>1</td>\n",
       "      <td>1193</td>\n",
       "      <td>5</td>\n",
       "      <td>978300760</td>\n",
       "    </tr>\n",
       "    <tr>\n",
       "      <th>1</th>\n",
       "      <td>1</td>\n",
       "      <td>661</td>\n",
       "      <td>3</td>\n",
       "      <td>978302109</td>\n",
       "    </tr>\n",
       "    <tr>\n",
       "      <th>2</th>\n",
       "      <td>1</td>\n",
       "      <td>914</td>\n",
       "      <td>3</td>\n",
       "      <td>978301968</td>\n",
       "    </tr>\n",
       "    <tr>\n",
       "      <th>3</th>\n",
       "      <td>1</td>\n",
       "      <td>3408</td>\n",
       "      <td>4</td>\n",
       "      <td>978300275</td>\n",
       "    </tr>\n",
       "    <tr>\n",
       "      <th>4</th>\n",
       "      <td>1</td>\n",
       "      <td>2355</td>\n",
       "      <td>5</td>\n",
       "      <td>978824291</td>\n",
       "    </tr>\n",
       "  </tbody>\n",
       "</table>\n",
       "</div>"
      ],
      "text/plain": [
       "   0     1  2          3\n",
       "0  1  1193  5  978300760\n",
       "1  1   661  3  978302109\n",
       "2  1   914  3  978301968\n",
       "3  1  3408  4  978300275\n",
       "4  1  2355  5  978824291"
      ]
     },
     "execution_count": 5,
     "metadata": {},
     "output_type": "execute_result"
    }
   ],
   "source": [
    "rating.head()"
   ]
  },
  {
   "cell_type": "code",
   "execution_count": 6,
   "metadata": {
    "collapsed": false
   },
   "outputs": [
    {
     "data": {
      "text/html": [
       "<div>\n",
       "<table border=\"1\" class=\"dataframe\">\n",
       "  <thead>\n",
       "    <tr style=\"text-align: right;\">\n",
       "      <th></th>\n",
       "      <th>0</th>\n",
       "      <th>1</th>\n",
       "      <th>2</th>\n",
       "      <th>3</th>\n",
       "      <th>4</th>\n",
       "    </tr>\n",
       "  </thead>\n",
       "  <tbody>\n",
       "    <tr>\n",
       "      <th>0</th>\n",
       "      <td>1</td>\n",
       "      <td>F</td>\n",
       "      <td>1</td>\n",
       "      <td>10</td>\n",
       "      <td>48067</td>\n",
       "    </tr>\n",
       "    <tr>\n",
       "      <th>1</th>\n",
       "      <td>2</td>\n",
       "      <td>M</td>\n",
       "      <td>56</td>\n",
       "      <td>16</td>\n",
       "      <td>70072</td>\n",
       "    </tr>\n",
       "    <tr>\n",
       "      <th>2</th>\n",
       "      <td>3</td>\n",
       "      <td>M</td>\n",
       "      <td>25</td>\n",
       "      <td>15</td>\n",
       "      <td>55117</td>\n",
       "    </tr>\n",
       "    <tr>\n",
       "      <th>3</th>\n",
       "      <td>4</td>\n",
       "      <td>M</td>\n",
       "      <td>45</td>\n",
       "      <td>7</td>\n",
       "      <td>02460</td>\n",
       "    </tr>\n",
       "    <tr>\n",
       "      <th>4</th>\n",
       "      <td>5</td>\n",
       "      <td>M</td>\n",
       "      <td>25</td>\n",
       "      <td>20</td>\n",
       "      <td>55455</td>\n",
       "    </tr>\n",
       "  </tbody>\n",
       "</table>\n",
       "</div>"
      ],
      "text/plain": [
       "   0  1   2   3      4\n",
       "0  1  F   1  10  48067\n",
       "1  2  M  56  16  70072\n",
       "2  3  M  25  15  55117\n",
       "3  4  M  45   7  02460\n",
       "4  5  M  25  20  55455"
      ]
     },
     "execution_count": 6,
     "metadata": {},
     "output_type": "execute_result"
    }
   ],
   "source": [
    "user.head()"
   ]
  },
  {
   "cell_type": "code",
   "execution_count": 7,
   "metadata": {
    "collapsed": false
   },
   "outputs": [],
   "source": [
    "data = pd.read_csv('data-K cross validation/u1.base', delimiter='\\t')\n",
    "data = np.array(data, dtype='int')"
   ]
  },
  {
   "cell_type": "code",
   "execution_count": 8,
   "metadata": {
    "collapsed": false
   },
   "outputs": [],
   "source": [
    "test = pd.read_csv('data-K cross validation/u1.test', delimiter='\\t')\n",
    "test = np.array(test, dtype='int')"
   ]
  },
  {
   "cell_type": "code",
   "execution_count": 9,
   "metadata": {
    "collapsed": false
   },
   "outputs": [
    {
     "name": "stdout",
     "output_type": "stream",
     "text": [
      "(79999, 4)\n",
      "(19999, 4)\n"
     ]
    }
   ],
   "source": [
    "print (data.shape)\n",
    "print (test.shape)"
   ]
  },
  {
   "cell_type": "code",
   "execution_count": 10,
   "metadata": {
    "collapsed": false
   },
   "outputs": [
    {
     "data": {
      "text/plain": [
       "array([[        1,         2,         3, 876893171],\n",
       "       [        1,         3,         4, 878542960],\n",
       "       [        1,         4,         3, 876893119],\n",
       "       [        1,         5,         3, 889751712],\n",
       "       [        1,         7,         4, 875071561],\n",
       "       [        1,         8,         1, 875072484],\n",
       "       [        1,         9,         5, 878543541],\n",
       "       [        1,        11,         2, 875072262],\n",
       "       [        1,        13,         5, 875071805],\n",
       "       [        1,        15,         5, 875071608]])"
      ]
     },
     "execution_count": 10,
     "metadata": {},
     "output_type": "execute_result"
    }
   ],
   "source": [
    "data[:10]"
   ]
  },
  {
   "cell_type": "code",
   "execution_count": 11,
   "metadata": {
    "collapsed": false
   },
   "outputs": [
    {
     "data": {
      "text/plain": [
       "array([[        1,        10,         3, 875693118],\n",
       "       [        1,        12,         5, 878542960],\n",
       "       [        1,        14,         5, 874965706],\n",
       "       [        1,        17,         3, 875073198],\n",
       "       [        1,        20,         4, 887431883],\n",
       "       [        1,        23,         4, 875072895],\n",
       "       [        1,        24,         3, 875071713],\n",
       "       [        1,        27,         2, 876892946],\n",
       "       [        1,        31,         3, 875072144],\n",
       "       [        1,        33,         4, 878542699]])"
      ]
     },
     "execution_count": 11,
     "metadata": {},
     "output_type": "execute_result"
    }
   ],
   "source": [
    "test[:10]"
   ]
  },
  {
   "cell_type": "code",
   "execution_count": 15,
   "metadata": {
    "collapsed": true
   },
   "outputs": [],
   "source": [
    "total_users = int(max(max(data[:,0]), max(test[:,0])))\n",
    "total_movies = int(max(max(data[:,1]), max(test[:,1])))"
   ]
  },
  {
   "cell_type": "code",
   "execution_count": 17,
   "metadata": {
    "collapsed": false
   },
   "outputs": [
    {
     "name": "stdout",
     "output_type": "stream",
     "text": [
      "943\n",
      "1682\n"
     ]
    }
   ],
   "source": [
    "print (total_users)\n",
    "print (total_movies)"
   ]
  },
  {
   "cell_type": "code",
   "execution_count": 18,
   "metadata": {
    "collapsed": true
   },
   "outputs": [],
   "source": [
    "def convert(inputs):\n",
    "    new_data = []\n",
    "    for users in range(1, total_users + 1):\n",
    "        id_movies = inputs[:,1][inputs[:,0] == users]\n",
    "        id_ratings = inputs[:,2][inputs[:,0] == users]\n",
    "        ratings = np.zeros(total_movies)\n",
    "        ratings[id_movies - 1] = id_ratings\n",
    "        new_data.append(list(ratings))\n",
    "    return new_data"
   ]
  },
  {
   "cell_type": "code",
   "execution_count": 19,
   "metadata": {
    "collapsed": false
   },
   "outputs": [],
   "source": [
    "train = convert(data)\n",
    "test = convert(test)"
   ]
  },
  {
   "cell_type": "code",
   "execution_count": 22,
   "metadata": {
    "collapsed": false
   },
   "outputs": [],
   "source": [
    "train = torch.FloatTensor(train)\n",
    "test = torch.FloatTensor(test)"
   ]
  },
  {
   "cell_type": "code",
   "execution_count": 24,
   "metadata": {
    "collapsed": false
   },
   "outputs": [
    {
     "data": {
      "text/plain": [
       "(\n",
       "     0     3     4  ...      0     0     0\n",
       "     4     0     0  ...      0     0     0\n",
       "     0     0     0  ...      0     0     0\n",
       "        ...          ⋱          ...       \n",
       "     5     0     0  ...      0     0     0\n",
       "     0     0     0  ...      0     0     0\n",
       "     0     5     0  ...      0     0     0\n",
       " [torch.FloatTensor of size 943x1682], \n",
       "     0     0     0  ...      0     0     0\n",
       "     0     0     0  ...      0     0     0\n",
       "     0     0     0  ...      0     0     0\n",
       "        ...          ⋱          ...       \n",
       "     0     0     0  ...      0     0     0\n",
       "     0     0     0  ...      0     0     0\n",
       "     0     0     0  ...      0     0     0\n",
       " [torch.FloatTensor of size 943x1682])"
      ]
     },
     "execution_count": 24,
     "metadata": {},
     "output_type": "execute_result"
    }
   ],
   "source": [
    "train, test"
   ]
  },
  {
   "cell_type": "code",
   "execution_count": 25,
   "metadata": {
    "collapsed": true
   },
   "outputs": [],
   "source": [
    "train[train == 0] = -1\n",
    "train[train == 1] = 0\n",
    "train[train == 2] = 0\n",
    "train[train >= 3] = 1"
   ]
  },
  {
   "cell_type": "code",
   "execution_count": 26,
   "metadata": {
    "collapsed": true
   },
   "outputs": [],
   "source": [
    "test[test == 0] = -1\n",
    "test[test == 1] = 0\n",
    "test[test == 2] = 0\n",
    "test[test >= 3] = 1"
   ]
  },
  {
   "cell_type": "code",
   "execution_count": 27,
   "metadata": {
    "collapsed": true
   },
   "outputs": [],
   "source": [
    "class RBM():\n",
    "    def __init__(self, v, h):\n",
    "        self.W = torch.randn(h, v)\n",
    "        self.a = torch.randn(1, h)\n",
    "        self.b = torch.randn(1, v)\n",
    "    def sample_h(self, x):\n",
    "        wx = torch.mm(x, self.W.t())\n",
    "        activation = wx + self.a.expand_as(wx)\n",
    "        p_h_given_v = torch.sigmoid(activation)\n",
    "        return p_h_given_v, torch.bernoulli(p_h_given_v)\n",
    "    def sample_v(self, y):\n",
    "        wy = torch.mm(y, self.W)\n",
    "        activation = wy + self.b.expand_as(wy)\n",
    "        p_v_given_h = torch.sigmoid(activation)\n",
    "        return p_v_given_h, torch.bernoulli(p_v_given_h)\n",
    "    def train(self, v0, vk, ph0, phk):\n",
    "        self.W += torch.mm(v0.t(), ph0) - torch.mm(vk.t(), phk)\n",
    "        self.b += torch.sum((v0 - vk), 0)\n",
    "        self.a += torch.sum((ph0 - phk), 0)"
   ]
  },
  {
   "cell_type": "code",
   "execution_count": 31,
   "metadata": {
    "collapsed": false
   },
   "outputs": [],
   "source": [
    "v = len(train[0])\n",
    "h = 100\n",
    "batch_size = 100\n",
    "epochs = 100"
   ]
  },
  {
   "cell_type": "code",
   "execution_count": 32,
   "metadata": {
    "collapsed": true
   },
   "outputs": [],
   "source": [
    "rbm = RBM(v, h)"
   ]
  },
  {
   "cell_type": "code",
   "execution_count": 33,
   "metadata": {
    "collapsed": false
   },
   "outputs": [
    {
     "name": "stderr",
     "output_type": "stream",
     "text": [
      "/anaconda/lib/python3.6/site-packages/torch/tensor.py:297: UserWarning: other is not broadcastable to self, but they have the same number of elements.  Falling back to deprecated pointwise behavior.\n",
      "  return self.add_(other)\n"
     ]
    },
    {
     "name": "stdout",
     "output_type": "stream",
     "text": [
      "epoch: 1 loss: 0.29123673850260734\n",
      "epoch: 2 loss: 0.2506326410887169\n",
      "epoch: 3 loss: 0.2487668384264279\n",
      "epoch: 4 loss: 0.25038637160951616\n",
      "epoch: 5 loss: 0.25107360096611253\n",
      "epoch: 6 loss: 0.25042107904304534\n",
      "epoch: 7 loss: 0.2498715987966832\n",
      "epoch: 8 loss: 0.2501224798025557\n",
      "epoch: 9 loss: 0.2504299396161946\n",
      "epoch: 10 loss: 0.24890871853245924\n",
      "epoch: 11 loss: 0.25083853115237265\n",
      "epoch: 12 loss: 0.2491661924271079\n",
      "epoch: 13 loss: 0.25075083673387905\n",
      "epoch: 14 loss: 0.25123829353104593\n",
      "epoch: 15 loss: 0.2504830468433176\n",
      "epoch: 16 loss: 0.2513916187665638\n",
      "epoch: 17 loss: 0.2502117104824085\n",
      "epoch: 18 loss: 0.25159430768537905\n",
      "epoch: 19 loss: 0.25094811289710367\n",
      "epoch: 20 loss: 0.25063822190603924\n",
      "epoch: 21 loss: 0.25067560771051134\n",
      "epoch: 22 loss: 0.2500304084209339\n",
      "epoch: 23 loss: 0.24962682769731037\n",
      "epoch: 24 loss: 0.25236863409094745\n",
      "epoch: 25 loss: 0.2500781738321538\n",
      "epoch: 26 loss: 0.2533806398358177\n",
      "epoch: 27 loss: 0.25197683420625583\n",
      "epoch: 28 loss: 0.2501459712113012\n",
      "epoch: 29 loss: 0.2486483948878423\n",
      "epoch: 30 loss: 0.249252941808905\n",
      "epoch: 31 loss: 0.24815519263832084\n",
      "epoch: 32 loss: 0.2504733563738441\n",
      "epoch: 33 loss: 0.2504574562833347\n",
      "epoch: 34 loss: 0.25018920564516445\n",
      "epoch: 35 loss: 0.2486987672658651\n",
      "epoch: 36 loss: 0.24909248409141493\n",
      "epoch: 37 loss: 0.24981025615446434\n",
      "epoch: 38 loss: 0.24968935777788323\n",
      "epoch: 39 loss: 0.2511244043750549\n",
      "epoch: 40 loss: 0.24952491831881524\n",
      "epoch: 41 loss: 0.2520513114510052\n",
      "epoch: 42 loss: 0.24824757850698498\n",
      "epoch: 43 loss: 0.24977381029316673\n",
      "epoch: 44 loss: 0.24804736569509617\n",
      "epoch: 45 loss: 0.2504345324939022\n",
      "epoch: 46 loss: 0.25098337471295057\n",
      "epoch: 47 loss: 0.24824957508570777\n",
      "epoch: 48 loss: 0.2481777926771487\n",
      "epoch: 49 loss: 0.24951380566209286\n",
      "epoch: 50 loss: 0.25105941888531524\n",
      "epoch: 51 loss: 0.2477890896530095\n",
      "epoch: 52 loss: 0.2516388544307522\n",
      "epoch: 53 loss: 0.2507146115950863\n",
      "epoch: 54 loss: 0.2499852543342631\n",
      "epoch: 55 loss: 0.2481631644817472\n",
      "epoch: 56 loss: 0.2505629849999706\n",
      "epoch: 57 loss: 0.24833219931468228\n",
      "epoch: 58 loss: 0.24840636232939067\n",
      "epoch: 59 loss: 0.24912633500862538\n",
      "epoch: 60 loss: 0.24857361104426856\n",
      "epoch: 61 loss: 0.2513886292503024\n",
      "epoch: 62 loss: 0.24966231744502312\n",
      "epoch: 63 loss: 0.25119782562615167\n",
      "epoch: 64 loss: 0.24641701852481937\n",
      "epoch: 65 loss: 0.24981920823222625\n",
      "epoch: 66 loss: 0.2515426837451453\n",
      "epoch: 67 loss: 0.249848722311854\n",
      "epoch: 68 loss: 0.2510602984380353\n",
      "epoch: 69 loss: 0.250508247913807\n",
      "epoch: 70 loss: 0.24897822469460273\n",
      "epoch: 71 loss: 0.24945755567503872\n",
      "epoch: 72 loss: 0.24907618335020956\n",
      "epoch: 73 loss: 0.24815261166191155\n",
      "epoch: 74 loss: 0.24912274816426386\n",
      "epoch: 75 loss: 0.25071867410997695\n",
      "epoch: 76 loss: 0.24893824032506906\n",
      "epoch: 77 loss: 0.25104286221508865\n",
      "epoch: 78 loss: 0.24825194170776058\n",
      "epoch: 79 loss: 0.24908674989411989\n",
      "epoch: 80 loss: 0.25132923506038857\n",
      "epoch: 81 loss: 0.24867213525733226\n",
      "epoch: 82 loss: 0.2519872213202514\n",
      "epoch: 83 loss: 0.24910802523819756\n",
      "epoch: 84 loss: 0.25074777410970484\n",
      "epoch: 85 loss: 0.25063791152183057\n",
      "epoch: 86 loss: 0.24991821382638843\n",
      "epoch: 87 loss: 0.2507496881603895\n",
      "epoch: 88 loss: 0.24740493855646825\n",
      "epoch: 89 loss: 0.2504029301676582\n",
      "epoch: 90 loss: 0.250686895599993\n",
      "epoch: 91 loss: 0.25048930669065766\n",
      "epoch: 92 loss: 0.2485838213891186\n",
      "epoch: 93 loss: 0.2524239914532651\n",
      "epoch: 94 loss: 0.24906076345226533\n",
      "epoch: 95 loss: 0.2509594363558638\n",
      "epoch: 96 loss: 0.24862650365185968\n",
      "epoch: 97 loss: 0.25067044163768815\n",
      "epoch: 98 loss: 0.24664252693899621\n",
      "epoch: 99 loss: 0.2504101396432459\n",
      "epoch: 100 loss: 0.2496120628033706\n"
     ]
    }
   ],
   "source": [
    "for epoch in range(1, epochs + 1):\n",
    "    train_loss = 0\n",
    "    s = 0.\n",
    "    for id_user in range(0, total_users - batch_size, batch_size):\n",
    "        vk = train[id_user : id_user + batch_size]\n",
    "        v0 = train[id_user : id_user + batch_size]\n",
    "        ph0, _ = rbm.sample_h(v0)\n",
    "        for k in range(10):\n",
    "            _,hk = rbm.sample_h(vk)\n",
    "            _,vk = rbm.sample_v(hk)\n",
    "            vk[v0<0] = v0[v0<0]\n",
    "        phk,_ = rbm.sample_h(vk)\n",
    "        rbm.train(v0, vk, ph0, phk)\n",
    "        train_loss += torch.mean(torch.abs(v0[v0>=0] - vk[v0>=0]))\n",
    "        s += 1.\n",
    "    print('epoch: '+str(epoch)+' loss: '+str(train_loss/s))"
   ]
  },
  {
   "cell_type": "code",
   "execution_count": 34,
   "metadata": {
    "collapsed": false
   },
   "outputs": [
    {
     "name": "stdout",
     "output_type": "stream",
     "text": [
      "test loss: 0.2345256809806862\n"
     ]
    }
   ],
   "source": [
    "test_loss = 0\n",
    "s = 0.\n",
    "for id_user in range(total_users):\n",
    "    v = train[id_user : id_user + 1]\n",
    "    vt = test[id_user : id_user + 1]\n",
    "    if len(vt[vt>=0]) > 0:\n",
    "        _,h = rbm.sample_h(v)\n",
    "        _,v = rbm.sample_v(h)\n",
    "        test_loss += torch.mean(torch.abs(vt[vt>=0] - v[vt>=0]))\n",
    "        s += 1.\n",
    "print('test loss: '+str(test_loss/s))"
   ]
  },
  {
   "cell_type": "code",
   "execution_count": null,
   "metadata": {
    "collapsed": true
   },
   "outputs": [],
   "source": []
  }
 ],
 "metadata": {
  "kernelspec": {
   "display_name": "Python 3",
   "language": "python",
   "name": "python3"
  },
  "language_info": {
   "codemirror_mode": {
    "name": "ipython",
    "version": 3
   },
   "file_extension": ".py",
   "mimetype": "text/x-python",
   "name": "python",
   "nbconvert_exporter": "python",
   "pygments_lexer": "ipython3",
   "version": "3.6.0"
  }
 },
 "nbformat": 4,
 "nbformat_minor": 2
}
